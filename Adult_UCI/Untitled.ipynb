{
 "cells": [
  {
   "cell_type": "code",
   "execution_count": 1,
   "id": "62275ce2",
   "metadata": {},
   "outputs": [],
   "source": [
    "def get_extension(path, verbose=False):\n",
    "    filename = path.split('\\\\')[-1]\n",
    "    extension = filename.split('.')[-1]\n",
    "    \n",
    "    if verbose == True:\n",
    "        print('Extension =', extension, '\\nfilename =', filename)\n",
    "    return extension\n",
    "\n",
    "\n",
    "def read_data(path, kwargs=None):\n",
    "    supported_exts = ('csv')\n",
    "    ext = get_extension(path)\n",
    "    if ext not in supported_exts:\n",
    "        raise ValueError(f'Rozszerzenie {ext} nie jest jeszcze obsługiwane')\n",
    "    \n",
    "    if ext == 'csv':\n",
    "        import pandas as pd\n",
    "        import numpy as np\n",
    "        data = pd.read_csv(path, **kwargs)\n",
    "        return data\n",
    "    \n",
    "    \n",
    "def mean_target_by_1variable(df_name, variable, target, verbose=False):\n",
    "    from pandasql import sqldf\n",
    "    query = f\"\"\"\n",
    "select\n",
    "    {variable}\n",
    "    ,avg({target}) as MEAN_{target}\n",
    "from {df_name}\n",
    "group by {variable}\n",
    "order by avg({target}) desc\n",
    "    \"\"\"\n",
    "    if verbose == True:\n",
    "        print(query)\n",
    "    return sqldf(query)"
   ]
  },
  {
   "cell_type": "code",
   "execution_count": 2,
   "id": "cd28fb5c",
   "metadata": {},
   "outputs": [],
   "source": [
    "import numpy as np\n",
    "import_params = {\n",
    "    'names' : ('age', 'workclass', 'fnlwgt', 'education', 'education_num', \n",
    "                'marital_status','occupation','relationship', 'race', 'sex',\n",
    "                'capital_gain', 'capital_loss', 'hours_per_week', 'native_country', 'target')\n",
    "    ,'index_col' : False\n",
    "    ,'dtype' : {'age' : np.int16, 'fnlwgt' : np.int32, 'education-num' : np.int16,\n",
    "                'capital-gain' : np.int32, 'capital-loss' : np.int32, 'hours-per-week' : np.int16}\n",
    "    ,\"skipinitialspace\" : True\n",
    "    ,'na_values' : ('', '?')\n",
    "}\n",
    "train_data = read_data(\"C:\\\\Users\\\\User1\\\\Notebooks\\\\ML_DS\\\\Adult_UCI\\\\adult_data.csv\", import_params)\n",
    "test_data = read_data(\"C:\\\\Users\\\\User1\\\\Notebooks\\\\ML_DS\\\\Adult_UCI\\\\adult_test.csv\", import_params)"
   ]
  },
  {
   "cell_type": "code",
   "execution_count": 3,
   "id": "f1c89f04",
   "metadata": {},
   "outputs": [
    {
     "name": "stdout",
     "output_type": "stream",
     "text": [
      "Wall time: 20.2 ms\n"
     ]
    }
   ],
   "source": [
    "%%time\n",
    "train_data = train_data.replace(to_replace={'target' : '>50K'}, value=1)\n",
    "train_data = train_data.replace(to_replace={'target' : '<=50K'}, value=0)\n",
    "test_data = test_data.replace(to_replace={'target' : '>50K'}, value=1)\n",
    "test_data = test_data.replace(to_replace={'target' : '<=50K'}, value=0)"
   ]
  },
  {
   "cell_type": "code",
   "execution_count": 4,
   "id": "b54850cd",
   "metadata": {},
   "outputs": [],
   "source": [
    "train_data['target'] = train_data['target'].astype(np.int8)\n",
    "test_data['target'] = test_data['target'].astype(np.int8)"
   ]
  },
  {
   "cell_type": "code",
   "execution_count": null,
   "id": "81f570f4",
   "metadata": {},
   "outputs": [],
   "source": [
    "train_data"
   ]
  },
  {
   "cell_type": "code",
   "execution_count": 9,
   "id": "8c915870",
   "metadata": {},
   "outputs": [
    {
     "name": "stdout",
     "output_type": "stream",
     "text": [
      "Wall time: 4.36 s\n"
     ]
    }
   ],
   "source": [
    "%%time\n",
    "nomin_vars = ('workclass', 'education', 'marital_status', 'occupation'\n",
    "              , 'relationship', 'race', 'sex', 'native_country')\n",
    "dfs_dict = {}\n",
    "for variable in nomin_vars:\n",
    "    dfs_dict[variable] = mean_target_by_1variable('train_data', variable, 'target')"
   ]
  },
  {
   "cell_type": "code",
   "execution_count": 10,
   "id": "02e570c5",
   "metadata": {},
   "outputs": [],
   "source": [
    "%matplotlib Qt\n",
    "for variable in dfs_dict.keys():\n",
    "    dfs_dict[variable].plot.bar(x=variable, y='MEAN_target')"
   ]
  },
  {
   "cell_type": "code",
   "execution_count": null,
   "id": "1b983adb",
   "metadata": {},
   "outputs": [],
   "source": [
    "num_vars = ('age', 'fnlwgt', 'education_num', 'capital_gain', 'capital_loss', 'hours_per_week')\n",
    "for variable in num_vars:\n",
    "    a = train_data.hist(by='target', column=variable, legend=True)"
   ]
  },
  {
   "cell_type": "code",
   "execution_count": null,
   "id": "00be4c45",
   "metadata": {},
   "outputs": [],
   "source": [
    "%%time\n",
    "%matplotlib Qt\n",
    "import matplotlib.pyplot as plt\n",
    "colors = ['green' if y == 1 else 'red' for y in train_data['target']]\n",
    "train_data.plot.scatter('education_num', 'age', c=colors)\n",
    "plt.title('Green: target = 1. Red: target = 0')"
   ]
  },
  {
   "cell_type": "markdown",
   "id": "5a87f97b",
   "metadata": {},
   "source": [
    "# Model 1 - prosty, oparty tylko na age i education_num"
   ]
  },
  {
   "cell_type": "code",
   "execution_count": 5,
   "id": "bf4af1f1",
   "metadata": {},
   "outputs": [
    {
     "name": "stdout",
     "output_type": "stream",
     "text": [
      "Wall time: 6 ms\n"
     ]
    }
   ],
   "source": [
    "%%time\n",
    "train_data_1 = train_data[['age', 'education_num', 'target']]\n",
    "test_data_1 = test_data[['age', 'education_num', 'target']]\n",
    "\n",
    "X_train = train_data_1.values[:, :-1]\n",
    "y_train = train_data_1.values[:, -1]\n",
    "y_train = y_train.astype('int')\n",
    "\n",
    "X_test = test_data_1.values[:, :-1]\n",
    "y_test = test_data_1.values[:, -1]"
   ]
  },
  {
   "cell_type": "code",
   "execution_count": 24,
   "id": "909d59d5",
   "metadata": {},
   "outputs": [
    {
     "name": "stdout",
     "output_type": "stream",
     "text": [
      "Wall time: 16.5 s\n"
     ]
    },
    {
     "data": {
      "text/plain": [
       "{'classification__alpha': 0.001}"
      ]
     },
     "execution_count": 24,
     "metadata": {},
     "output_type": "execute_result"
    }
   ],
   "source": [
    "%%time\n",
    "from sklearn import preprocessing\n",
    "from sklearn.pipeline import Pipeline\n",
    "from sklearn import impute\n",
    "from sklearn.linear_model import RidgeClassifier\n",
    "from sklearn.model_selection import GridSearchCV\n",
    "import pandas as pd \n",
    "\n",
    "ppl = Pipeline(steps=[\n",
    "    ('imputation', impute.SimpleImputer(strategy='most_frequent'))\n",
    "    ,('classification', RidgeClassifier())\n",
    "])\n",
    "cv_params = {\n",
    "    'classification__alpha' : np.logspace(-3, 1, 1000)\n",
    "}\n",
    "search = GridSearchCV(ppl, cv_params, n_jobs=-1)\n",
    "search.fit(X_train, y_train)\n",
    "search.best_params_"
   ]
  },
  {
   "cell_type": "code",
   "execution_count": 25,
   "id": "6325a171",
   "metadata": {},
   "outputs": [
    {
     "name": "stdout",
     "output_type": "stream",
     "text": [
      "Wall time: 4.99 ms\n"
     ]
    },
    {
     "data": {
      "text/plain": [
       "0.7775252602807039"
      ]
     },
     "execution_count": 25,
     "metadata": {},
     "output_type": "execute_result"
    }
   ],
   "source": [
    "%%time\n",
    "search.score(X_train, y_train)"
   ]
  },
  {
   "cell_type": "code",
   "execution_count": 26,
   "id": "fdd8ff24",
   "metadata": {},
   "outputs": [
    {
     "name": "stdout",
     "output_type": "stream",
     "text": [
      "Wall time: 243 ms\n"
     ]
    }
   ],
   "source": [
    "%%time\n",
    "res = search.predict(X_test)\n",
    "res_df = pd.DataFrame(np.concatenate((X_test, y_test[:, None], res[:, None]), axis=1))\n",
    "res_df.columns = ['age', 'education_num', 'target', 'prediction']\n",
    "\n",
    "from pandasql import sqldf\n",
    "query = \"\"\"\n",
    "select\n",
    "    age\n",
    "    ,education_num\n",
    "    ,target\n",
    "    ,prediction\n",
    "    ,case\n",
    "        when target = prediction and target = 1 then 'blue'\n",
    "        when target = prediction and target = 0 then 'green'\n",
    "        when target <> prediction and target = 1 then 'yellow'\n",
    "    else 'red' end as color\n",
    "    ,case\n",
    "        when target = prediction and target = 1 then 'true positive'\n",
    "        when target = prediction and target = 0 then 'true negative'\n",
    "        when target <> prediction and target = 1 then 'false negative'\n",
    "        else 'false positive'\n",
    "    end as eval\n",
    "from res_df\n",
    "\"\"\"\n",
    "res_df = sqldf(query)"
   ]
  },
  {
   "cell_type": "code",
   "execution_count": 27,
   "id": "0dd723dc",
   "metadata": {},
   "outputs": [
    {
     "data": {
      "text/plain": [
       "<matplotlib.legend.Legend at 0x1995c1058e0>"
      ]
     },
     "execution_count": 27,
     "metadata": {},
     "output_type": "execute_result"
    }
   ],
   "source": [
    "plt.figure()\n",
    "for i, partition in res_df.groupby('color'):\n",
    "    plt.scatter(partition['education_num'], partition['age'], c=partition['color'], label=partition['eval'].iloc[0])\n",
    "plt.legend()"
   ]
  },
  {
   "cell_type": "code",
   "execution_count": 28,
   "id": "1feefe43",
   "metadata": {},
   "outputs": [
    {
     "name": "stdout",
     "output_type": "stream",
     "text": [
      "Wall time: 179 ms\n"
     ]
    },
    {
     "data": {
      "text/plain": [
       "{'classification__C': 0.001}"
      ]
     },
     "execution_count": 28,
     "metadata": {},
     "output_type": "execute_result"
    }
   ],
   "source": [
    "%%time\n",
    "from sklearn import preprocessing\n",
    "from sklearn.pipeline import Pipeline\n",
    "from sklearn import impute\n",
    "from sklearn.linear_model import LogisticRegression\n",
    "from sklearn.model_selection import GridSearchCV\n",
    "import pandas as pd \n",
    "\n",
    "ppl = Pipeline(steps=[\n",
    "    ('imputation', impute.SimpleImputer(strategy='most_frequent'))\n",
    "    ,('classification', LogisticRegression())\n",
    "])\n",
    "cv_params = {\n",
    "    'classification__C' : np.logspace(-3, 1, 1)\n",
    "}\n",
    "search = GridSearchCV(ppl, cv_params, n_jobs=-1)\n",
    "search.fit(X_train, y_train)\n",
    "search.best_params_"
   ]
  },
  {
   "cell_type": "code",
   "execution_count": 29,
   "id": "e27c8f89",
   "metadata": {},
   "outputs": [
    {
     "name": "stdout",
     "output_type": "stream",
     "text": [
      "0.781026381253647\n",
      "0.7838584853510226\n",
      "Wall time: 8 ms\n"
     ]
    }
   ],
   "source": [
    "%%time\n",
    "print(search.score(X_train, y_train))\n",
    "print(search.score(X_test, y_test))"
   ]
  },
  {
   "cell_type": "code",
   "execution_count": 30,
   "id": "e2ede6ae",
   "metadata": {},
   "outputs": [
    {
     "name": "stdout",
     "output_type": "stream",
     "text": [
      "Wall time: 291 ms\n"
     ]
    }
   ],
   "source": [
    "%%time\n",
    "res = search.predict(X_test)\n",
    "res_df = pd.DataFrame(np.concatenate((X_test, y_test[:, None], res[:, None]), axis=1))\n",
    "res_df.columns = ['age', 'education_num', 'target', 'prediction']\n",
    "\n",
    "from pandasql import sqldf\n",
    "query = \"\"\"\n",
    "select\n",
    "    age\n",
    "    ,education_num\n",
    "    ,target\n",
    "    ,prediction\n",
    "    ,case\n",
    "        when target = prediction and target = 1 then 'blue'\n",
    "        when target = prediction and target = 0 then 'green'\n",
    "        when target <> prediction and target = 1 then 'yellow'\n",
    "    else 'red' end as color\n",
    "    ,case\n",
    "        when target = prediction and target = 1 then 'true positive'\n",
    "        when target = prediction and target = 0 then 'true negative'\n",
    "        when target <> prediction and target = 1 then 'false negative'\n",
    "        else 'false positive'\n",
    "    end as eval\n",
    "from res_df\n",
    "\"\"\"\n",
    "res_df = sqldf(query)"
   ]
  },
  {
   "cell_type": "code",
   "execution_count": 31,
   "id": "aadaf608",
   "metadata": {},
   "outputs": [
    {
     "data": {
      "text/plain": [
       "<matplotlib.legend.Legend at 0x19961eb1940>"
      ]
     },
     "execution_count": 31,
     "metadata": {},
     "output_type": "execute_result"
    }
   ],
   "source": [
    "plt.figure()\n",
    "for i, partition in res_df.groupby('color'):\n",
    "    plt.scatter(partition['education_num'], partition['age'], c=partition['color'], label=partition['eval'].iloc[0])\n",
    "plt.legend()"
   ]
  },
  {
   "cell_type": "code",
   "execution_count": 16,
   "id": "9a98e7c7",
   "metadata": {},
   "outputs": [
    {
     "name": "stdout",
     "output_type": "stream",
     "text": [
      "Wall time: 3min 24s\n"
     ]
    },
    {
     "name": "stderr",
     "output_type": "stream",
     "text": [
      "D:\\Anaconda3\\lib\\site-packages\\sklearn\\svm\\_base.py:255: ConvergenceWarning: Solver terminated early (max_iter=1000).  Consider pre-processing your data with StandardScaler or MinMaxScaler.\n",
      "  warnings.warn('Solver terminated early (max_iter=%i).'\n"
     ]
    },
    {
     "data": {
      "text/plain": [
       "{'classification__C': 6.158482110660261,\n",
       " 'classification__kernel': 'linear',\n",
       " 'classification__max_iter': 1000}"
      ]
     },
     "execution_count": 16,
     "metadata": {},
     "output_type": "execute_result"
    }
   ],
   "source": [
    "%%time\n",
    "from sklearn import preprocessing\n",
    "from sklearn.pipeline import Pipeline\n",
    "from sklearn import impute\n",
    "from sklearn.preprocessing import StandardScaler\n",
    "from sklearn.svm import SVC\n",
    "from sklearn.model_selection import GridSearchCV\n",
    "import pandas as pd \n",
    "\n",
    "ppl = Pipeline(steps=[\n",
    "    ('imputation', impute.SimpleImputer(strategy='most_frequent'))\n",
    "    ,('scaling', StandardScaler())\n",
    "    ,('classification', SVC(gamma='scale', class_weight='balanced'))\n",
    "])\n",
    "cv_params = {\n",
    "    'classification__C' : np.logspace(-3, 1, 20)\n",
    "    ,'classification__kernel': ['rbf', 'linear', 'poly', 'sigmoid']\n",
    "    ,'classification__max_iter' : [1000]\n",
    "}\n",
    "search = GridSearchCV(ppl, cv_params, n_jobs=-1)\n",
    "search.fit(X_train, y_train)\n",
    "search.best_params_"
   ]
  },
  {
   "cell_type": "code",
   "execution_count": 17,
   "id": "8750a42d",
   "metadata": {},
   "outputs": [
    {
     "name": "stdout",
     "output_type": "stream",
     "text": [
      "0.7350511347931574\n",
      "0.7355813524967754\n",
      "Wall time: 1.8 s\n"
     ]
    }
   ],
   "source": [
    "%%time\n",
    "print(search.score(X_train, y_train))\n",
    "print(search.score(X_test, y_test))"
   ]
  },
  {
   "cell_type": "code",
   "execution_count": 18,
   "id": "b2c249f2",
   "metadata": {},
   "outputs": [
    {
     "name": "stdout",
     "output_type": "stream",
     "text": [
      "Wall time: 899 ms\n"
     ]
    }
   ],
   "source": [
    "%%time\n",
    "res = search.predict(X_test)\n",
    "res_df = pd.DataFrame(np.concatenate((X_test, y_test[:, None], res[:, None]), axis=1))\n",
    "res_df.columns = ['age', 'education_num', 'target', 'prediction']\n",
    "\n",
    "from pandasql import sqldf\n",
    "query = \"\"\"\n",
    "select\n",
    "    age\n",
    "    ,education_num\n",
    "    ,target\n",
    "    ,prediction\n",
    "    ,case\n",
    "        when target = prediction and target = 1 then 'blue'\n",
    "        when target = prediction and target = 0 then 'green'\n",
    "        when target <> prediction and target = 1 then 'yellow'\n",
    "    else 'red' end as color\n",
    "    ,case\n",
    "        when target = prediction and target = 1 then 'true positive'\n",
    "        when target = prediction and target = 0 then 'true negative'\n",
    "        when target <> prediction and target = 1 then 'false negative'\n",
    "        else 'false positive'\n",
    "    end as eval\n",
    "from res_df\n",
    "\"\"\"\n",
    "res_df = sqldf(query)"
   ]
  },
  {
   "cell_type": "code",
   "execution_count": 15,
   "id": "339a04e1",
   "metadata": {},
   "outputs": [
    {
     "data": {
      "text/plain": [
       "<matplotlib.legend.Legend at 0x1995f597820>"
      ]
     },
     "execution_count": 15,
     "metadata": {},
     "output_type": "execute_result"
    }
   ],
   "source": [
    "%matplotlib Qt\n",
    "import matplotlib.pyplot as plt\n",
    "plt.figure()\n",
    "for i, partition in res_df.groupby('color'):\n",
    "    plt.scatter(partition['education_num'], partition['age'], c=partition['color'], label=partition['eval'].iloc[0])\n",
    "plt.legend()"
   ]
  },
  {
   "cell_type": "code",
   "execution_count": 20,
   "id": "9c38b2fc",
   "metadata": {},
   "outputs": [
    {
     "name": "stdout",
     "output_type": "stream",
     "text": [
      "Wall time: 35.7 s\n"
     ]
    },
    {
     "data": {
      "text/plain": [
       "{'classification__n_neighbors': 10,\n",
       " 'classification__p': 2,\n",
       " 'classification__weights': 'uniform'}"
      ]
     },
     "execution_count": 20,
     "metadata": {},
     "output_type": "execute_result"
    }
   ],
   "source": [
    "%%time\n",
    "from sklearn import preprocessing\n",
    "from sklearn.pipeline import Pipeline\n",
    "from sklearn import impute\n",
    "from sklearn.preprocessing import StandardScaler\n",
    "from sklearn.neighbors import KNeighborsClassifier\n",
    "from sklearn.model_selection import GridSearchCV\n",
    "import pandas as pd \n",
    "\n",
    "ppl = Pipeline(steps=[\n",
    "    ('imputation', impute.SimpleImputer(strategy='most_frequent'))\n",
    "    ,('scaling', StandardScaler())\n",
    "    ,('classification', KNeighborsClassifier(n_jobs=-1))\n",
    "])\n",
    "cv_params = {\n",
    "    'classification__n_neighbors' : [i for i in range(3, 11)]\n",
    "    ,'classification__weights' : ['uniform', 'distance']\n",
    "    , 'classification__p' : [i for i in range(2, 6)]\n",
    "}\n",
    "search = GridSearchCV(ppl, cv_params, n_jobs=-1)\n",
    "search.fit(X_train, y_train)\n",
    "search.best_params_"
   ]
  },
  {
   "cell_type": "code",
   "execution_count": 21,
   "id": "9b8742aa",
   "metadata": {},
   "outputs": [
    {
     "name": "stdout",
     "output_type": "stream",
     "text": [
      "0.7776481066306318\n",
      "0.7702843805663043\n",
      "Wall time: 1.58 s\n"
     ]
    }
   ],
   "source": [
    "%%time\n",
    "print(search.score(X_train, y_train))\n",
    "print(search.score(X_test, y_test))"
   ]
  },
  {
   "cell_type": "code",
   "execution_count": 22,
   "id": "19917182",
   "metadata": {},
   "outputs": [
    {
     "name": "stdout",
     "output_type": "stream",
     "text": [
      "Wall time: 708 ms\n"
     ]
    }
   ],
   "source": [
    "%%time\n",
    "res = search.predict(X_test)\n",
    "res_df = pd.DataFrame(np.concatenate((X_test, y_test[:, None], res[:, None]), axis=1))\n",
    "res_df.columns = ['age', 'education_num', 'target', 'prediction']\n",
    "\n",
    "from pandasql import sqldf\n",
    "query = \"\"\"\n",
    "select\n",
    "    age\n",
    "    ,education_num\n",
    "    ,target\n",
    "    ,prediction\n",
    "    ,case\n",
    "        when target = prediction and target = 1 then 'blue'\n",
    "        when target = prediction and target = 0 then 'green'\n",
    "        when target <> prediction and target = 1 then 'yellow'\n",
    "    else 'red' end as color\n",
    "    ,case\n",
    "        when target = prediction and target = 1 then 'true positive'\n",
    "        when target = prediction and target = 0 then 'true negative'\n",
    "        when target <> prediction and target = 1 then 'false negative'\n",
    "        else 'false positive'\n",
    "    end as eval\n",
    "from res_df\n",
    "\"\"\"\n",
    "res_df = sqldf(query)"
   ]
  },
  {
   "cell_type": "code",
   "execution_count": 23,
   "id": "320bdfae",
   "metadata": {},
   "outputs": [
    {
     "data": {
      "text/plain": [
       "<matplotlib.legend.Legend at 0x19961d51a90>"
      ]
     },
     "execution_count": 23,
     "metadata": {},
     "output_type": "execute_result"
    }
   ],
   "source": [
    "%matplotlib Qt\n",
    "import matplotlib.pyplot as plt\n",
    "plt.figure()\n",
    "for i, partition in res_df.groupby('color'):\n",
    "    plt.scatter(partition['education_num'], partition['age'], c=partition['color'], label=partition['eval'].iloc[0])\n",
    "plt.legend()"
   ]
  },
  {
   "cell_type": "code",
   "execution_count": 7,
   "id": "4d42578f",
   "metadata": {},
   "outputs": [
    {
     "name": "stdout",
     "output_type": "stream",
     "text": [
      "Wall time: 12 ms\n"
     ]
    },
    {
     "data": {
      "text/plain": [
       "Pipeline(steps=[('imputation', SimpleImputer(strategy='most_frequent')),\n",
       "                ('scaling', StandardScaler()),\n",
       "                ('classification', GaussianNB())])"
      ]
     },
     "execution_count": 7,
     "metadata": {},
     "output_type": "execute_result"
    }
   ],
   "source": [
    "%%time\n",
    "from sklearn import preprocessing\n",
    "from sklearn.pipeline import Pipeline\n",
    "from sklearn import impute\n",
    "from sklearn.preprocessing import StandardScaler\n",
    "from sklearn.naive_bayes import GaussianNB\n",
    "from sklearn.model_selection import GridSearchCV\n",
    "import pandas as pd \n",
    "\n",
    "ppl = Pipeline(steps=[\n",
    "    ('imputation', impute.SimpleImputer(strategy='most_frequent'))\n",
    "    ,('scaling', StandardScaler())\n",
    "    ,('classification', GaussianNB())\n",
    "])\n",
    "search = ppl\n",
    "search.fit(X_train, y_train)"
   ]
  },
  {
   "cell_type": "code",
   "execution_count": 8,
   "id": "9b127816",
   "metadata": {},
   "outputs": [
    {
     "name": "stdout",
     "output_type": "stream",
     "text": [
      "0.7915604557599583\n",
      "0.7926417296234874\n",
      "Wall time: 9.96 ms\n"
     ]
    }
   ],
   "source": [
    "%%time\n",
    "print(search.score(X_train, y_train))\n",
    "print(search.score(X_test, y_test))"
   ]
  },
  {
   "cell_type": "code",
   "execution_count": 9,
   "id": "9dd9545e",
   "metadata": {},
   "outputs": [
    {
     "name": "stdout",
     "output_type": "stream",
     "text": [
      "Wall time: 455 ms\n"
     ]
    }
   ],
   "source": [
    "%%time\n",
    "res = search.predict(X_test)\n",
    "res_df = pd.DataFrame(np.concatenate((X_test, y_test[:, None], res[:, None]), axis=1))\n",
    "res_df.columns = ['age', 'education_num', 'target', 'prediction']\n",
    "\n",
    "from pandasql import sqldf\n",
    "query = \"\"\"\n",
    "select\n",
    "    age\n",
    "    ,education_num\n",
    "    ,target\n",
    "    ,prediction\n",
    "    ,case\n",
    "        when target = prediction and target = 1 then 'blue'\n",
    "        when target = prediction and target = 0 then 'green'\n",
    "        when target <> prediction and target = 1 then 'yellow'\n",
    "    else 'red' end as color\n",
    "    ,case\n",
    "        when target = prediction and target = 1 then 'true positive'\n",
    "        when target = prediction and target = 0 then 'true negative'\n",
    "        when target <> prediction and target = 1 then 'false negative'\n",
    "        else 'false positive'\n",
    "    end as eval\n",
    "from res_df\n",
    "\"\"\"\n",
    "res_df = sqldf(query)"
   ]
  },
  {
   "cell_type": "code",
   "execution_count": 12,
   "id": "15b94612",
   "metadata": {},
   "outputs": [
    {
     "data": {
      "text/plain": [
       "Text(0.5, 1.0, 'Evaluation of Naive Bayes classification')"
      ]
     },
     "execution_count": 12,
     "metadata": {},
     "output_type": "execute_result"
    }
   ],
   "source": [
    "%matplotlib Qt\n",
    "import matplotlib.pyplot as plt\n",
    "plt.figure()\n",
    "for i, partition in res_df.groupby('color'):\n",
    "    plt.scatter(partition['education_num'], partition['age'], c=partition['color'], label=partition['eval'].iloc[0])\n",
    "plt.legend()\n",
    "plt.xlabel('Number of education classes')\n",
    "plt.ylabel('Age')\n",
    "plt.title('Evaluation of Naive Bayes classification')"
   ]
  },
  {
   "cell_type": "code",
   "execution_count": 27,
   "id": "c73d90ad",
   "metadata": {},
   "outputs": [
    {
     "name": "stdout",
     "output_type": "stream",
     "text": [
      "Wall time: 1.59 s\n"
     ]
    },
    {
     "name": "stderr",
     "output_type": "stream",
     "text": [
      "D:\\Anaconda3\\lib\\site-packages\\sklearn\\model_selection\\_search.py:922: UserWarning: One or more of the test scores are non-finite: [0.69475742 0.69478813        nan 0.48690189 0.78191718        nan\n",
      " 0.24080955 0.47160705        nan 0.24080955 0.24080955        nan\n",
      " 0.24080955 0.24080955        nan 0.24080955 0.24080955        nan\n",
      " 0.24080955 0.24080955        nan 0.24080955 0.24080955        nan\n",
      " 0.24080955 0.24080955        nan 0.24080955 0.24080955        nan\n",
      " 0.24080955 0.24080955        nan 0.24080955 0.24080955        nan\n",
      " 0.24080955 0.24080955        nan 0.24080955 0.24080955        nan\n",
      " 0.24080955 0.24080955        nan 0.24080955 0.24080955        nan\n",
      " 0.24080955 0.24080955        nan 0.24080955 0.24080955        nan\n",
      " 0.24080955 0.24080955        nan 0.24080955 0.24080955        nan\n",
      " 0.24080955 0.24080955        nan]\n",
      "  warnings.warn(\n"
     ]
    },
    {
     "data": {
      "text/plain": [
       "{'classification__ccp_alpha': 0.05, 'classification__criterion': 'entropy'}"
      ]
     },
     "execution_count": 27,
     "metadata": {},
     "output_type": "execute_result"
    }
   ],
   "source": [
    "%%time\n",
    "from sklearn import preprocessing\n",
    "from sklearn.pipeline import Pipeline\n",
    "from sklearn import impute\n",
    "from sklearn.preprocessing import StandardScaler\n",
    "from sklearn.tree import DecisionTreeClassifier\n",
    "from sklearn.model_selection import GridSearchCV\n",
    "import pandas as pd \n",
    "\n",
    "ppl = Pipeline(steps=[\n",
    "    ('imputation', impute.SimpleImputer(strategy='most_frequent'))\n",
    "#     ,('scaling', StandardScaler())\n",
    "    ,('classification', DecisionTreeClassifier(class_weight = 'balanced'))\n",
    "])\n",
    "cv_params = {\n",
    "    'classification__criterion' : ['gini', 'entropy']\n",
    "    ,'classification__ccp_alpha' : np.linspace(0, 1, 21)\n",
    "}\n",
    "search = GridSearchCV(ppl, cv_params, n_jobs=-1)\n",
    "search.fit(X_train, y_train)\n",
    "search.best_params_"
   ]
  },
  {
   "cell_type": "code",
   "execution_count": 28,
   "id": "7c554d2f",
   "metadata": {},
   "outputs": [
    {
     "name": "stdout",
     "output_type": "stream",
     "text": [
      "0.7819170172906238\n",
      "0.7805417357656164\n",
      "Wall time: 10.1 ms\n"
     ]
    }
   ],
   "source": [
    "%%time\n",
    "print(search.score(X_train, y_train))\n",
    "print(search.score(X_test, y_test))"
   ]
  },
  {
   "cell_type": "code",
   "execution_count": 23,
   "id": "ac7b71e5",
   "metadata": {},
   "outputs": [
    {
     "name": "stdout",
     "output_type": "stream",
     "text": [
      "Wall time: 242 ms\n"
     ]
    }
   ],
   "source": [
    "%%time\n",
    "res = search.predict(X_test)\n",
    "res_df = pd.DataFrame(np.concatenate((X_test, y_test[:, None], res[:, None]), axis=1))\n",
    "res_df.columns = ['age', 'education_num', 'target', 'prediction']\n",
    "\n",
    "from pandasql import sqldf\n",
    "query = \"\"\"\n",
    "select\n",
    "    age\n",
    "    ,education_num\n",
    "    ,target\n",
    "    ,prediction\n",
    "    ,case\n",
    "        when target = prediction and target = 1 then 'blue'\n",
    "        when target = prediction and target = 0 then 'green'\n",
    "        when target <> prediction and target = 1 then 'yellow'\n",
    "    else 'red' end as color\n",
    "    ,case\n",
    "        when target = prediction and target = 1 then 'true positive'\n",
    "        when target = prediction and target = 0 then 'true negative'\n",
    "        when target <> prediction and target = 1 then 'false negative'\n",
    "        else 'false positive'\n",
    "    end as eval\n",
    "from res_df\n",
    "\"\"\"\n",
    "res_df = sqldf(query)"
   ]
  },
  {
   "cell_type": "code",
   "execution_count": 24,
   "id": "ebb199fc",
   "metadata": {},
   "outputs": [
    {
     "data": {
      "text/plain": [
       "Text(0.5, 1.0, 'Evaluation of Decision Tree classification')"
      ]
     },
     "execution_count": 24,
     "metadata": {},
     "output_type": "execute_result"
    }
   ],
   "source": [
    "%matplotlib Qt\n",
    "import matplotlib.pyplot as plt\n",
    "plt.figure()\n",
    "for i, partition in res_df.groupby('color'):\n",
    "    plt.scatter(partition['education_num'], partition['age'], c=partition['color'], label=partition['eval'].iloc[0])\n",
    "plt.legend()\n",
    "plt.xlabel('Number of education classes')\n",
    "plt.ylabel('Age')\n",
    "plt.title('Evaluation of Decision Tree classification')"
   ]
  },
  {
   "cell_type": "code",
   "execution_count": 6,
   "id": "1550491d",
   "metadata": {},
   "outputs": [
    {
     "name": "stdout",
     "output_type": "stream",
     "text": [
      "Fitting 5 folds for each of 4200 candidates, totalling 21000 fits\n",
      "Wall time: 4h 18min 47s\n"
     ]
    },
    {
     "data": {
      "text/plain": [
       "{'classification__ccp_alpha': 0.05,\n",
       " 'classification__criterion': 'gini',\n",
       " 'classification__n_estimators': 130}"
      ]
     },
     "execution_count": 6,
     "metadata": {},
     "output_type": "execute_result"
    }
   ],
   "source": [
    "%%time\n",
    "from sklearn import preprocessing\n",
    "from sklearn.pipeline import Pipeline\n",
    "from sklearn import impute\n",
    "from sklearn.preprocessing import StandardScaler\n",
    "from sklearn.ensemble import RandomForestClassifier\n",
    "from sklearn.model_selection import GridSearchCV\n",
    "import pandas as pd \n",
    "\n",
    "ppl = Pipeline(steps=[\n",
    "    ('imputation', impute.SimpleImputer(strategy='most_frequent'))\n",
    "#     ,('scaling', StandardScaler())\n",
    "    ,('classification', RandomForestClassifier(class_weight = 'balanced', n_jobs=-1))\n",
    "])\n",
    "cv_params = {\n",
    "    'classification__criterion' : ['gini', 'entropy']\n",
    "    ,'classification__ccp_alpha' : np.linspace(0, 1, 21)\n",
    "    ,'classification__n_estimators' : [5*i for i in range(1, 101)]\n",
    "}\n",
    "search = GridSearchCV(ppl, cv_params, n_jobs=-1, verbose=3)\n",
    "search.fit(X_train, y_train)\n",
    "search.best_params_"
   ]
  },
  {
   "cell_type": "code",
   "execution_count": 7,
   "id": "6c185fa2",
   "metadata": {},
   "outputs": [
    {
     "name": "stdout",
     "output_type": "stream",
     "text": [
      "0.7819170172906238\n",
      "0.7805417357656164\n",
      "Wall time: 170 ms\n"
     ]
    }
   ],
   "source": [
    "%%time\n",
    "print(search.score(X_train, y_train))\n",
    "print(search.score(X_test, y_test))"
   ]
  },
  {
   "cell_type": "code",
   "execution_count": 8,
   "id": "58d8fdf2",
   "metadata": {},
   "outputs": [
    {
     "name": "stdout",
     "output_type": "stream",
     "text": [
      "Wall time: 831 ms\n"
     ]
    }
   ],
   "source": [
    "%%time\n",
    "res = search.predict(X_test)\n",
    "res_df = pd.DataFrame(np.concatenate((X_test, y_test[:, None], res[:, None]), axis=1))\n",
    "res_df.columns = ['age', 'education_num', 'target', 'prediction']\n",
    "\n",
    "from pandasql import sqldf\n",
    "query = \"\"\"\n",
    "select\n",
    "    age\n",
    "    ,education_num\n",
    "    ,target\n",
    "    ,prediction\n",
    "    ,case\n",
    "        when target = prediction and target = 1 then 'blue'\n",
    "        when target = prediction and target = 0 then 'green'\n",
    "        when target <> prediction and target = 1 then 'yellow'\n",
    "    else 'red' end as color\n",
    "    ,case\n",
    "        when target = prediction and target = 1 then 'true positive'\n",
    "        when target = prediction and target = 0 then 'true negative'\n",
    "        when target <> prediction and target = 1 then 'false negative'\n",
    "        else 'false positive'\n",
    "    end as eval\n",
    "from res_df\n",
    "\"\"\"\n",
    "res_df = sqldf(query)"
   ]
  },
  {
   "cell_type": "code",
   "execution_count": 9,
   "id": "c48a5116",
   "metadata": {},
   "outputs": [
    {
     "data": {
      "text/plain": [
       "Text(0.5, 1.0, 'Evaluation of RandomForest classification')"
      ]
     },
     "execution_count": 9,
     "metadata": {},
     "output_type": "execute_result"
    }
   ],
   "source": [
    "%matplotlib Qt\n",
    "import matplotlib.pyplot as plt\n",
    "plt.figure()\n",
    "for i, partition in res_df.groupby('color'):\n",
    "    plt.scatter(partition['education_num'], partition['age'], c=partition['color'], label=partition['eval'].iloc[0])\n",
    "plt.legend()\n",
    "plt.xlabel('Number of education classes')\n",
    "plt.ylabel('Age')\n",
    "plt.title('Evaluation of RandomForest classification')"
   ]
  },
  {
   "cell_type": "markdown",
   "id": "e178f5cd",
   "metadata": {},
   "source": [
    "# Model 2 - model wykorzystujący zakodowane zmianne kategoryczne  \n",
    "Zmienne:\n",
    "('workclass', 'education', 'marital_status', 'occupation'\n",
    "              , 'relationship', 'race', 'sex', 'native_country')\n",
    "              \n"
   ]
  },
  {
   "cell_type": "code",
   "execution_count": 6,
   "id": "52c17b59",
   "metadata": {},
   "outputs": [
    {
     "name": "stdout",
     "output_type": "stream",
     "text": [
      "32561\n"
     ]
    }
   ],
   "source": [
    "split_row = len(train_data.values)\n",
    "print(split_row)\n",
    "full_data = train_data.append(test_data)"
   ]
  },
  {
   "cell_type": "code",
   "execution_count": 7,
   "id": "a4d256d2",
   "metadata": {},
   "outputs": [],
   "source": [
    "from sklearn.preprocessing import OneHotEncoder\n",
    "from sklearn.compose import ColumnTransformer\n",
    "\n",
    "nomin_vars = ('workclass', 'education', 'marital_status', 'occupation' , 'relationship', 'race', 'sex', 'native_country')\n",
    "enc = OneHotEncoder(sparse=False)\n",
    "transformer = ColumnTransformer([('nomin_vars', enc, nomin_vars)], remainder='passthrough')\n",
    "encoded_data = transformer.fit_transform(full_data)"
   ]
  },
  {
   "cell_type": "code",
   "execution_count": 8,
   "id": "93bafc44",
   "metadata": {},
   "outputs": [],
   "source": [
    "enc_train_data = encoded_data[:split_row, :]\n",
    "enc_test_data = encoded_data[split_row:, :]\n",
    "\n",
    "X_train = enc_train_data[:, :-1]\n",
    "y_train = enc_train_data[:, -1]\n",
    "y_train = y_train.astype('int')\n",
    "\n",
    "X_test = enc_test_data[:, :-1]\n",
    "y_test = enc_test_data[:, -1]"
   ]
  },
  {
   "cell_type": "code",
   "execution_count": 9,
   "id": "567bb8f7",
   "metadata": {
    "collapsed": true
   },
   "outputs": [
    {
     "name": "stdout",
     "output_type": "stream",
     "text": [
      "Fitting estimator with 108 features.\n",
      "Fitting estimator with 107 features.\n",
      "Fitting estimator with 106 features.\n",
      "Fitting estimator with 105 features.\n",
      "Fitting estimator with 104 features.\n",
      "Fitting estimator with 103 features.\n",
      "Fitting estimator with 102 features.\n",
      "Fitting estimator with 101 features.\n",
      "Fitting estimator with 100 features.\n",
      "Fitting estimator with 99 features.\n",
      "Fitting estimator with 98 features.\n",
      "Fitting estimator with 97 features.\n",
      "Fitting estimator with 96 features.\n",
      "Fitting estimator with 95 features.\n",
      "Fitting estimator with 94 features.\n",
      "Fitting estimator with 93 features.\n",
      "Fitting estimator with 92 features.\n",
      "Fitting estimator with 91 features.\n",
      "Fitting estimator with 90 features.\n",
      "Fitting estimator with 89 features.\n",
      "Fitting estimator with 88 features.\n",
      "Fitting estimator with 87 features.\n",
      "Fitting estimator with 86 features.\n",
      "Fitting estimator with 85 features.\n",
      "Fitting estimator with 84 features.\n",
      "Fitting estimator with 83 features.\n",
      "Fitting estimator with 82 features.\n",
      "Fitting estimator with 81 features.\n",
      "Fitting estimator with 80 features.\n",
      "Fitting estimator with 79 features.\n",
      "Fitting estimator with 78 features.\n",
      "Fitting estimator with 77 features.\n",
      "Fitting estimator with 76 features.\n",
      "Fitting estimator with 75 features.\n",
      "Fitting estimator with 74 features.\n",
      "Fitting estimator with 73 features.\n",
      "Fitting estimator with 72 features.\n",
      "Wall time: 35.6 s\n"
     ]
    }
   ],
   "source": [
    "%%time\n",
    "from sklearn.feature_selection import RFECV\n",
    "from sklearn.tree import DecisionTreeClassifier\n",
    "esti = DecisionTreeClassifier(random_state=1)\n",
    "feat_selector = RFECV(esti, verbose=1, n_jobs=4, cv=4)\n",
    "\n",
    "feat_selector = feat_selector.fit(X_train, y_train)\n",
    "X_train = feat_selector.transform(X_train)\n",
    "X_test = feat_selector.transform(X_test)"
   ]
  },
  {
   "cell_type": "code",
   "execution_count": 10,
   "id": "4df7756a",
   "metadata": {},
   "outputs": [
    {
     "data": {
      "text/plain": [
       "(32561, 71)"
      ]
     },
     "execution_count": 10,
     "metadata": {},
     "output_type": "execute_result"
    }
   ],
   "source": [
    "X_train.shape"
   ]
  },
  {
   "cell_type": "code",
   "execution_count": 24,
   "id": "20c98241",
   "metadata": {},
   "outputs": [
    {
     "name": "stdout",
     "output_type": "stream",
     "text": [
      "Fitting 5 folds for each of 100 candidates, totalling 500 fits\n"
     ]
    },
    {
     "ename": "KeyboardInterrupt",
     "evalue": "",
     "output_type": "error",
     "traceback": [
      "\u001b[1;31m---------------------------------------------------------------------------\u001b[0m",
      "\u001b[1;31mKeyboardInterrupt\u001b[0m                         Traceback (most recent call last)",
      "\u001b[1;32m<timed exec>\u001b[0m in \u001b[0;36m<module>\u001b[1;34m\u001b[0m\n",
      "\u001b[1;32mD:\\Anaconda3\\lib\\site-packages\\sklearn\\utils\\validation.py\u001b[0m in \u001b[0;36minner_f\u001b[1;34m(*args, **kwargs)\u001b[0m\n\u001b[0;32m     61\u001b[0m             \u001b[0mextra_args\u001b[0m \u001b[1;33m=\u001b[0m \u001b[0mlen\u001b[0m\u001b[1;33m(\u001b[0m\u001b[0margs\u001b[0m\u001b[1;33m)\u001b[0m \u001b[1;33m-\u001b[0m \u001b[0mlen\u001b[0m\u001b[1;33m(\u001b[0m\u001b[0mall_args\u001b[0m\u001b[1;33m)\u001b[0m\u001b[1;33m\u001b[0m\u001b[1;33m\u001b[0m\u001b[0m\n\u001b[0;32m     62\u001b[0m             \u001b[1;32mif\u001b[0m \u001b[0mextra_args\u001b[0m \u001b[1;33m<=\u001b[0m \u001b[1;36m0\u001b[0m\u001b[1;33m:\u001b[0m\u001b[1;33m\u001b[0m\u001b[1;33m\u001b[0m\u001b[0m\n\u001b[1;32m---> 63\u001b[1;33m                 \u001b[1;32mreturn\u001b[0m \u001b[0mf\u001b[0m\u001b[1;33m(\u001b[0m\u001b[1;33m*\u001b[0m\u001b[0margs\u001b[0m\u001b[1;33m,\u001b[0m \u001b[1;33m**\u001b[0m\u001b[0mkwargs\u001b[0m\u001b[1;33m)\u001b[0m\u001b[1;33m\u001b[0m\u001b[1;33m\u001b[0m\u001b[0m\n\u001b[0m\u001b[0;32m     64\u001b[0m \u001b[1;33m\u001b[0m\u001b[0m\n\u001b[0;32m     65\u001b[0m             \u001b[1;31m# extra_args > 0\u001b[0m\u001b[1;33m\u001b[0m\u001b[1;33m\u001b[0m\u001b[0m\n",
      "\u001b[1;32mD:\\Anaconda3\\lib\\site-packages\\sklearn\\model_selection\\_search.py\u001b[0m in \u001b[0;36mfit\u001b[1;34m(self, X, y, groups, **fit_params)\u001b[0m\n\u001b[0;32m    839\u001b[0m                 \u001b[1;32mreturn\u001b[0m \u001b[0mresults\u001b[0m\u001b[1;33m\u001b[0m\u001b[1;33m\u001b[0m\u001b[0m\n\u001b[0;32m    840\u001b[0m \u001b[1;33m\u001b[0m\u001b[0m\n\u001b[1;32m--> 841\u001b[1;33m             \u001b[0mself\u001b[0m\u001b[1;33m.\u001b[0m\u001b[0m_run_search\u001b[0m\u001b[1;33m(\u001b[0m\u001b[0mevaluate_candidates\u001b[0m\u001b[1;33m)\u001b[0m\u001b[1;33m\u001b[0m\u001b[1;33m\u001b[0m\u001b[0m\n\u001b[0m\u001b[0;32m    842\u001b[0m \u001b[1;33m\u001b[0m\u001b[0m\n\u001b[0;32m    843\u001b[0m             \u001b[1;31m# multimetric is determined here because in the case of a callable\u001b[0m\u001b[1;33m\u001b[0m\u001b[1;33m\u001b[0m\u001b[0m\n",
      "\u001b[1;32mD:\\Anaconda3\\lib\\site-packages\\sklearn\\model_selection\\_search.py\u001b[0m in \u001b[0;36m_run_search\u001b[1;34m(self, evaluate_candidates)\u001b[0m\n\u001b[0;32m   1294\u001b[0m     \u001b[1;32mdef\u001b[0m \u001b[0m_run_search\u001b[0m\u001b[1;33m(\u001b[0m\u001b[0mself\u001b[0m\u001b[1;33m,\u001b[0m \u001b[0mevaluate_candidates\u001b[0m\u001b[1;33m)\u001b[0m\u001b[1;33m:\u001b[0m\u001b[1;33m\u001b[0m\u001b[1;33m\u001b[0m\u001b[0m\n\u001b[0;32m   1295\u001b[0m         \u001b[1;34m\"\"\"Search all candidates in param_grid\"\"\"\u001b[0m\u001b[1;33m\u001b[0m\u001b[1;33m\u001b[0m\u001b[0m\n\u001b[1;32m-> 1296\u001b[1;33m         \u001b[0mevaluate_candidates\u001b[0m\u001b[1;33m(\u001b[0m\u001b[0mParameterGrid\u001b[0m\u001b[1;33m(\u001b[0m\u001b[0mself\u001b[0m\u001b[1;33m.\u001b[0m\u001b[0mparam_grid\u001b[0m\u001b[1;33m)\u001b[0m\u001b[1;33m)\u001b[0m\u001b[1;33m\u001b[0m\u001b[1;33m\u001b[0m\u001b[0m\n\u001b[0m\u001b[0;32m   1297\u001b[0m \u001b[1;33m\u001b[0m\u001b[0m\n\u001b[0;32m   1298\u001b[0m \u001b[1;33m\u001b[0m\u001b[0m\n",
      "\u001b[1;32mD:\\Anaconda3\\lib\\site-packages\\sklearn\\model_selection\\_search.py\u001b[0m in \u001b[0;36mevaluate_candidates\u001b[1;34m(candidate_params, cv, more_results)\u001b[0m\n\u001b[0;32m    793\u001b[0m                               n_splits, n_candidates, n_candidates * n_splits))\n\u001b[0;32m    794\u001b[0m \u001b[1;33m\u001b[0m\u001b[0m\n\u001b[1;32m--> 795\u001b[1;33m                 out = parallel(delayed(_fit_and_score)(clone(base_estimator),\n\u001b[0m\u001b[0;32m    796\u001b[0m                                                        \u001b[0mX\u001b[0m\u001b[1;33m,\u001b[0m \u001b[0my\u001b[0m\u001b[1;33m,\u001b[0m\u001b[1;33m\u001b[0m\u001b[1;33m\u001b[0m\u001b[0m\n\u001b[0;32m    797\u001b[0m                                                        \u001b[0mtrain\u001b[0m\u001b[1;33m=\u001b[0m\u001b[0mtrain\u001b[0m\u001b[1;33m,\u001b[0m \u001b[0mtest\u001b[0m\u001b[1;33m=\u001b[0m\u001b[0mtest\u001b[0m\u001b[1;33m,\u001b[0m\u001b[1;33m\u001b[0m\u001b[1;33m\u001b[0m\u001b[0m\n",
      "\u001b[1;32mD:\\Anaconda3\\lib\\site-packages\\joblib\\parallel.py\u001b[0m in \u001b[0;36m__call__\u001b[1;34m(self, iterable)\u001b[0m\n\u001b[0;32m   1054\u001b[0m \u001b[1;33m\u001b[0m\u001b[0m\n\u001b[0;32m   1055\u001b[0m             \u001b[1;32mwith\u001b[0m \u001b[0mself\u001b[0m\u001b[1;33m.\u001b[0m\u001b[0m_backend\u001b[0m\u001b[1;33m.\u001b[0m\u001b[0mretrieval_context\u001b[0m\u001b[1;33m(\u001b[0m\u001b[1;33m)\u001b[0m\u001b[1;33m:\u001b[0m\u001b[1;33m\u001b[0m\u001b[1;33m\u001b[0m\u001b[0m\n\u001b[1;32m-> 1056\u001b[1;33m                 \u001b[0mself\u001b[0m\u001b[1;33m.\u001b[0m\u001b[0mretrieve\u001b[0m\u001b[1;33m(\u001b[0m\u001b[1;33m)\u001b[0m\u001b[1;33m\u001b[0m\u001b[1;33m\u001b[0m\u001b[0m\n\u001b[0m\u001b[0;32m   1057\u001b[0m             \u001b[1;31m# Make sure that we get a last message telling us we are done\u001b[0m\u001b[1;33m\u001b[0m\u001b[1;33m\u001b[0m\u001b[0m\n\u001b[0;32m   1058\u001b[0m             \u001b[0melapsed_time\u001b[0m \u001b[1;33m=\u001b[0m \u001b[0mtime\u001b[0m\u001b[1;33m.\u001b[0m\u001b[0mtime\u001b[0m\u001b[1;33m(\u001b[0m\u001b[1;33m)\u001b[0m \u001b[1;33m-\u001b[0m \u001b[0mself\u001b[0m\u001b[1;33m.\u001b[0m\u001b[0m_start_time\u001b[0m\u001b[1;33m\u001b[0m\u001b[1;33m\u001b[0m\u001b[0m\n",
      "\u001b[1;32mD:\\Anaconda3\\lib\\site-packages\\joblib\\parallel.py\u001b[0m in \u001b[0;36mretrieve\u001b[1;34m(self)\u001b[0m\n\u001b[0;32m    933\u001b[0m             \u001b[1;32mtry\u001b[0m\u001b[1;33m:\u001b[0m\u001b[1;33m\u001b[0m\u001b[1;33m\u001b[0m\u001b[0m\n\u001b[0;32m    934\u001b[0m                 \u001b[1;32mif\u001b[0m \u001b[0mgetattr\u001b[0m\u001b[1;33m(\u001b[0m\u001b[0mself\u001b[0m\u001b[1;33m.\u001b[0m\u001b[0m_backend\u001b[0m\u001b[1;33m,\u001b[0m \u001b[1;34m'supports_timeout'\u001b[0m\u001b[1;33m,\u001b[0m \u001b[1;32mFalse\u001b[0m\u001b[1;33m)\u001b[0m\u001b[1;33m:\u001b[0m\u001b[1;33m\u001b[0m\u001b[1;33m\u001b[0m\u001b[0m\n\u001b[1;32m--> 935\u001b[1;33m                     \u001b[0mself\u001b[0m\u001b[1;33m.\u001b[0m\u001b[0m_output\u001b[0m\u001b[1;33m.\u001b[0m\u001b[0mextend\u001b[0m\u001b[1;33m(\u001b[0m\u001b[0mjob\u001b[0m\u001b[1;33m.\u001b[0m\u001b[0mget\u001b[0m\u001b[1;33m(\u001b[0m\u001b[0mtimeout\u001b[0m\u001b[1;33m=\u001b[0m\u001b[0mself\u001b[0m\u001b[1;33m.\u001b[0m\u001b[0mtimeout\u001b[0m\u001b[1;33m)\u001b[0m\u001b[1;33m)\u001b[0m\u001b[1;33m\u001b[0m\u001b[1;33m\u001b[0m\u001b[0m\n\u001b[0m\u001b[0;32m    936\u001b[0m                 \u001b[1;32melse\u001b[0m\u001b[1;33m:\u001b[0m\u001b[1;33m\u001b[0m\u001b[1;33m\u001b[0m\u001b[0m\n\u001b[0;32m    937\u001b[0m                     \u001b[0mself\u001b[0m\u001b[1;33m.\u001b[0m\u001b[0m_output\u001b[0m\u001b[1;33m.\u001b[0m\u001b[0mextend\u001b[0m\u001b[1;33m(\u001b[0m\u001b[0mjob\u001b[0m\u001b[1;33m.\u001b[0m\u001b[0mget\u001b[0m\u001b[1;33m(\u001b[0m\u001b[1;33m)\u001b[0m\u001b[1;33m)\u001b[0m\u001b[1;33m\u001b[0m\u001b[1;33m\u001b[0m\u001b[0m\n",
      "\u001b[1;32mD:\\Anaconda3\\lib\\site-packages\\joblib\\_parallel_backends.py\u001b[0m in \u001b[0;36mwrap_future_result\u001b[1;34m(future, timeout)\u001b[0m\n\u001b[0;32m    540\u001b[0m         AsyncResults.get from multiprocessing.\"\"\"\n\u001b[0;32m    541\u001b[0m         \u001b[1;32mtry\u001b[0m\u001b[1;33m:\u001b[0m\u001b[1;33m\u001b[0m\u001b[1;33m\u001b[0m\u001b[0m\n\u001b[1;32m--> 542\u001b[1;33m             \u001b[1;32mreturn\u001b[0m \u001b[0mfuture\u001b[0m\u001b[1;33m.\u001b[0m\u001b[0mresult\u001b[0m\u001b[1;33m(\u001b[0m\u001b[0mtimeout\u001b[0m\u001b[1;33m=\u001b[0m\u001b[0mtimeout\u001b[0m\u001b[1;33m)\u001b[0m\u001b[1;33m\u001b[0m\u001b[1;33m\u001b[0m\u001b[0m\n\u001b[0m\u001b[0;32m    543\u001b[0m         \u001b[1;32mexcept\u001b[0m \u001b[0mCfTimeoutError\u001b[0m \u001b[1;32mas\u001b[0m \u001b[0me\u001b[0m\u001b[1;33m:\u001b[0m\u001b[1;33m\u001b[0m\u001b[1;33m\u001b[0m\u001b[0m\n\u001b[0;32m    544\u001b[0m             \u001b[1;32mraise\u001b[0m \u001b[0mTimeoutError\u001b[0m \u001b[1;32mfrom\u001b[0m \u001b[0me\u001b[0m\u001b[1;33m\u001b[0m\u001b[1;33m\u001b[0m\u001b[0m\n",
      "\u001b[1;32mD:\\Anaconda3\\lib\\concurrent\\futures\\_base.py\u001b[0m in \u001b[0;36mresult\u001b[1;34m(self, timeout)\u001b[0m\n\u001b[0;32m    438\u001b[0m                     \u001b[1;32mreturn\u001b[0m \u001b[0mself\u001b[0m\u001b[1;33m.\u001b[0m\u001b[0m__get_result\u001b[0m\u001b[1;33m(\u001b[0m\u001b[1;33m)\u001b[0m\u001b[1;33m\u001b[0m\u001b[1;33m\u001b[0m\u001b[0m\n\u001b[0;32m    439\u001b[0m \u001b[1;33m\u001b[0m\u001b[0m\n\u001b[1;32m--> 440\u001b[1;33m                 \u001b[0mself\u001b[0m\u001b[1;33m.\u001b[0m\u001b[0m_condition\u001b[0m\u001b[1;33m.\u001b[0m\u001b[0mwait\u001b[0m\u001b[1;33m(\u001b[0m\u001b[0mtimeout\u001b[0m\u001b[1;33m)\u001b[0m\u001b[1;33m\u001b[0m\u001b[1;33m\u001b[0m\u001b[0m\n\u001b[0m\u001b[0;32m    441\u001b[0m \u001b[1;33m\u001b[0m\u001b[0m\n\u001b[0;32m    442\u001b[0m                 \u001b[1;32mif\u001b[0m \u001b[0mself\u001b[0m\u001b[1;33m.\u001b[0m\u001b[0m_state\u001b[0m \u001b[1;32min\u001b[0m \u001b[1;33m[\u001b[0m\u001b[0mCANCELLED\u001b[0m\u001b[1;33m,\u001b[0m \u001b[0mCANCELLED_AND_NOTIFIED\u001b[0m\u001b[1;33m]\u001b[0m\u001b[1;33m:\u001b[0m\u001b[1;33m\u001b[0m\u001b[1;33m\u001b[0m\u001b[0m\n",
      "\u001b[1;32mD:\\Anaconda3\\lib\\threading.py\u001b[0m in \u001b[0;36mwait\u001b[1;34m(self, timeout)\u001b[0m\n\u001b[0;32m    310\u001b[0m         \u001b[1;32mtry\u001b[0m\u001b[1;33m:\u001b[0m    \u001b[1;31m# restore state no matter what (e.g., KeyboardInterrupt)\u001b[0m\u001b[1;33m\u001b[0m\u001b[1;33m\u001b[0m\u001b[0m\n\u001b[0;32m    311\u001b[0m             \u001b[1;32mif\u001b[0m \u001b[0mtimeout\u001b[0m \u001b[1;32mis\u001b[0m \u001b[1;32mNone\u001b[0m\u001b[1;33m:\u001b[0m\u001b[1;33m\u001b[0m\u001b[1;33m\u001b[0m\u001b[0m\n\u001b[1;32m--> 312\u001b[1;33m                 \u001b[0mwaiter\u001b[0m\u001b[1;33m.\u001b[0m\u001b[0macquire\u001b[0m\u001b[1;33m(\u001b[0m\u001b[1;33m)\u001b[0m\u001b[1;33m\u001b[0m\u001b[1;33m\u001b[0m\u001b[0m\n\u001b[0m\u001b[0;32m    313\u001b[0m                 \u001b[0mgotit\u001b[0m \u001b[1;33m=\u001b[0m \u001b[1;32mTrue\u001b[0m\u001b[1;33m\u001b[0m\u001b[1;33m\u001b[0m\u001b[0m\n\u001b[0;32m    314\u001b[0m             \u001b[1;32melse\u001b[0m\u001b[1;33m:\u001b[0m\u001b[1;33m\u001b[0m\u001b[1;33m\u001b[0m\u001b[0m\n",
      "\u001b[1;31mKeyboardInterrupt\u001b[0m: "
     ]
    }
   ],
   "source": [
    "%%time\n",
    "from sklearn import preprocessing\n",
    "from sklearn.pipeline import Pipeline\n",
    "from sklearn import impute\n",
    "from sklearn.linear_model import RidgeClassifier\n",
    "from sklearn.model_selection import GridSearchCV\n",
    "import pandas as pd \n",
    "\n",
    "ppl = Pipeline(steps=[\n",
    "    ('imputation', impute.SimpleImputer(strategy='most_frequent'))\n",
    "    ,('classification', RidgeClassifier())\n",
    "])\n",
    "cv_params = {\n",
    "    'classification__alpha' : np.logspace(-3, 1, 100)\n",
    "}\n",
    "search = GridSearchCV(ppl, cv_params, n_jobs=-1, verbose=3)\n",
    "search.fit(X_train, y_train)\n",
    "search.best_params_"
   ]
  },
  {
   "cell_type": "code",
   "execution_count": 38,
   "id": "61161eb2",
   "metadata": {},
   "outputs": [
    {
     "name": "stdout",
     "output_type": "stream",
     "text": [
      "Wall time: 13.1 ms\n"
     ]
    },
    {
     "data": {
      "text/plain": [
       "0.838764165719726"
      ]
     },
     "execution_count": 38,
     "metadata": {},
     "output_type": "execute_result"
    }
   ],
   "source": [
    "%%time\n",
    "search.score(X_train, y_train)"
   ]
  },
  {
   "cell_type": "code",
   "execution_count": 39,
   "id": "3b157ddd",
   "metadata": {},
   "outputs": [
    {
     "name": "stdout",
     "output_type": "stream",
     "text": [
      "Wall time: 11.6 ms\n"
     ]
    },
    {
     "data": {
      "text/plain": [
       "0.8427000798476753"
      ]
     },
     "execution_count": 39,
     "metadata": {},
     "output_type": "execute_result"
    }
   ],
   "source": [
    "%%time\n",
    "search.score(X_test, y_test)"
   ]
  },
  {
   "cell_type": "code",
   "execution_count": 40,
   "id": "9976108e",
   "metadata": {},
   "outputs": [],
   "source": [
    "res = search.predict(X_test)\n",
    "res_df = pd.DataFrame(np.concatenate((y_test[:, None], res[:, None]), axis=1))\n",
    "res_df.columns = ['target', 'prediction']\n",
    "from pandasql import sqldf\n",
    "query = \"\"\"\n",
    "select\n",
    "    eval as RESULT\n",
    "    ,count(*) as CNT\n",
    "from\n",
    "    (select\n",
    "        target\n",
    "        ,prediction\n",
    "        ,case\n",
    "            when target = prediction and target = 1 then 'true positive'\n",
    "            when target = prediction and target = 0 then 'true negative'\n",
    "            when target <> prediction and target = 1 then 'false negative'\n",
    "            else 'false positive'\n",
    "        end as eval\n",
    "    from res_df)\n",
    "group by eval\n",
    "\"\"\"\n",
    "res_df = sqldf(query)"
   ]
  },
  {
   "cell_type": "code",
   "execution_count": 41,
   "id": "93fc4d41",
   "metadata": {},
   "outputs": [
    {
     "data": {
      "text/html": [
       "<div>\n",
       "<style scoped>\n",
       "    .dataframe tbody tr th:only-of-type {\n",
       "        vertical-align: middle;\n",
       "    }\n",
       "\n",
       "    .dataframe tbody tr th {\n",
       "        vertical-align: top;\n",
       "    }\n",
       "\n",
       "    .dataframe thead th {\n",
       "        text-align: right;\n",
       "    }\n",
       "</style>\n",
       "<table border=\"1\" class=\"dataframe\">\n",
       "  <thead>\n",
       "    <tr style=\"text-align: right;\">\n",
       "      <th></th>\n",
       "      <th>RESULT</th>\n",
       "      <th>CNT</th>\n",
       "    </tr>\n",
       "  </thead>\n",
       "  <tbody>\n",
       "    <tr>\n",
       "      <th>0</th>\n",
       "      <td>false negative</td>\n",
       "      <td>1882</td>\n",
       "    </tr>\n",
       "    <tr>\n",
       "      <th>1</th>\n",
       "      <td>false positive</td>\n",
       "      <td>679</td>\n",
       "    </tr>\n",
       "    <tr>\n",
       "      <th>2</th>\n",
       "      <td>true negative</td>\n",
       "      <td>11756</td>\n",
       "    </tr>\n",
       "    <tr>\n",
       "      <th>3</th>\n",
       "      <td>true positive</td>\n",
       "      <td>1964</td>\n",
       "    </tr>\n",
       "  </tbody>\n",
       "</table>\n",
       "</div>"
      ],
      "text/plain": [
       "           RESULT    CNT\n",
       "0  false negative   1882\n",
       "1  false positive    679\n",
       "2   true negative  11756\n",
       "3   true positive   1964"
      ]
     },
     "execution_count": 41,
     "metadata": {},
     "output_type": "execute_result"
    }
   ],
   "source": [
    "res_df"
   ]
  },
  {
   "cell_type": "code",
   "execution_count": 44,
   "id": "5091fe18",
   "metadata": {},
   "outputs": [
    {
     "name": "stdout",
     "output_type": "stream",
     "text": [
      "Fitting 5 folds for each of 500 candidates, totalling 2500 fits\n",
      "Wall time: 2min 1s\n"
     ]
    },
    {
     "data": {
      "text/plain": [
       "{'classification__C': 0.029712958185773342}"
      ]
     },
     "execution_count": 44,
     "metadata": {},
     "output_type": "execute_result"
    }
   ],
   "source": [
    "%%time\n",
    "from sklearn import preprocessing\n",
    "from sklearn.pipeline import Pipeline\n",
    "from sklearn import impute\n",
    "from sklearn.linear_model import LogisticRegression\n",
    "from sklearn.model_selection import GridSearchCV\n",
    "import pandas as pd \n",
    "\n",
    "ppl = Pipeline(steps=[\n",
    "    ('imputation', impute.SimpleImputer(strategy='most_frequent'))\n",
    "    ,('classification', LogisticRegression())\n",
    "])\n",
    "cv_params = {\n",
    "    'classification__C' : np.logspace(-3, 2, 500)\n",
    "}\n",
    "search = GridSearchCV(ppl, cv_params, n_jobs=-1, verbose=3)\n",
    "search.fit(X_train, y_train)\n",
    "search.best_params_"
   ]
  },
  {
   "cell_type": "code",
   "execution_count": 45,
   "id": "c1cbdbfb",
   "metadata": {},
   "outputs": [
    {
     "name": "stdout",
     "output_type": "stream",
     "text": [
      "Wall time: 10.6 ms\n"
     ]
    },
    {
     "data": {
      "text/plain": [
       "0.7957679432449863"
      ]
     },
     "execution_count": 45,
     "metadata": {},
     "output_type": "execute_result"
    }
   ],
   "source": [
    "%%time\n",
    "search.score(X_train, y_train)"
   ]
  },
  {
   "cell_type": "code",
   "execution_count": 46,
   "id": "bda2420f",
   "metadata": {},
   "outputs": [
    {
     "name": "stdout",
     "output_type": "stream",
     "text": [
      "Wall time: 10.1 ms\n"
     ]
    },
    {
     "data": {
      "text/plain": [
       "0.7978011178674529"
      ]
     },
     "execution_count": 46,
     "metadata": {},
     "output_type": "execute_result"
    }
   ],
   "source": [
    "%%time\n",
    "search.score(X_test, y_test)"
   ]
  },
  {
   "cell_type": "code",
   "execution_count": 47,
   "id": "30cc2b78",
   "metadata": {},
   "outputs": [],
   "source": [
    "res = search.predict(X_test)\n",
    "res_df = pd.DataFrame(np.concatenate((y_test[:, None], res[:, None]), axis=1))\n",
    "res_df.columns = ['target', 'prediction']\n",
    "from pandasql import sqldf\n",
    "query = \"\"\"\n",
    "select\n",
    "    eval as RESULT\n",
    "    ,count(*) as CNT\n",
    "from\n",
    "    (select\n",
    "        target\n",
    "        ,prediction\n",
    "        ,case\n",
    "            when target = prediction and target = 1 then 'true positive'\n",
    "            when target = prediction and target = 0 then 'true negative'\n",
    "            when target <> prediction and target = 1 then 'false negative'\n",
    "            else 'false positive'\n",
    "        end as eval\n",
    "    from res_df)\n",
    "group by eval\n",
    "\"\"\"\n",
    "res_df = sqldf(query)"
   ]
  },
  {
   "cell_type": "code",
   "execution_count": 48,
   "id": "41d1c4d7",
   "metadata": {},
   "outputs": [
    {
     "data": {
      "text/html": [
       "<div>\n",
       "<style scoped>\n",
       "    .dataframe tbody tr th:only-of-type {\n",
       "        vertical-align: middle;\n",
       "    }\n",
       "\n",
       "    .dataframe tbody tr th {\n",
       "        vertical-align: top;\n",
       "    }\n",
       "\n",
       "    .dataframe thead th {\n",
       "        text-align: right;\n",
       "    }\n",
       "</style>\n",
       "<table border=\"1\" class=\"dataframe\">\n",
       "  <thead>\n",
       "    <tr style=\"text-align: right;\">\n",
       "      <th></th>\n",
       "      <th>RESULT</th>\n",
       "      <th>CNT</th>\n",
       "    </tr>\n",
       "  </thead>\n",
       "  <tbody>\n",
       "    <tr>\n",
       "      <th>0</th>\n",
       "      <td>false negative</td>\n",
       "      <td>2846</td>\n",
       "    </tr>\n",
       "    <tr>\n",
       "      <th>1</th>\n",
       "      <td>false positive</td>\n",
       "      <td>446</td>\n",
       "    </tr>\n",
       "    <tr>\n",
       "      <th>2</th>\n",
       "      <td>true negative</td>\n",
       "      <td>11989</td>\n",
       "    </tr>\n",
       "    <tr>\n",
       "      <th>3</th>\n",
       "      <td>true positive</td>\n",
       "      <td>1000</td>\n",
       "    </tr>\n",
       "  </tbody>\n",
       "</table>\n",
       "</div>"
      ],
      "text/plain": [
       "           RESULT    CNT\n",
       "0  false negative   2846\n",
       "1  false positive    446\n",
       "2   true negative  11989\n",
       "3   true positive   1000"
      ]
     },
     "execution_count": 48,
     "metadata": {},
     "output_type": "execute_result"
    }
   ],
   "source": [
    "res_df"
   ]
  },
  {
   "cell_type": "code",
   "execution_count": 9,
   "id": "9de6e98c",
   "metadata": {},
   "outputs": [
    {
     "name": "stdout",
     "output_type": "stream",
     "text": [
      "Fitting 5 folds for each of 200 candidates, totalling 1000 fits\n",
      "Wall time: 23min 25s\n"
     ]
    },
    {
     "name": "stderr",
     "output_type": "stream",
     "text": [
      "D:\\Anaconda3\\lib\\site-packages\\sklearn\\svm\\_base.py:255: ConvergenceWarning: Solver terminated early (max_iter=1000).  Consider pre-processing your data with StandardScaler or MinMaxScaler.\n",
      "  warnings.warn('Solver terminated early (max_iter=%i).'\n"
     ]
    },
    {
     "data": {
      "text/plain": [
       "{'classification__C': 2.2229964825261934,\n",
       " 'classification__kernel': 'sigmoid',\n",
       " 'classification__max_iter': 1000}"
      ]
     },
     "execution_count": 9,
     "metadata": {},
     "output_type": "execute_result"
    }
   ],
   "source": [
    "%%time\n",
    "from sklearn import preprocessing\n",
    "from sklearn.pipeline import Pipeline\n",
    "from sklearn import impute\n",
    "from sklearn.preprocessing import StandardScaler\n",
    "from sklearn.svm import SVC\n",
    "from sklearn.model_selection import GridSearchCV\n",
    "import pandas as pd \n",
    "\n",
    "ppl = Pipeline(steps=[\n",
    "    ('imputation', impute.SimpleImputer(strategy='most_frequent'))\n",
    "    ,('scaling', StandardScaler())\n",
    "    ,('classification', SVC(gamma='scale', class_weight='balanced'))\n",
    "])\n",
    "cv_params = {\n",
    "    'classification__C' : np.logspace(-3, 1, 50)\n",
    "    ,'classification__kernel': ['rbf', 'linear', 'poly', 'sigmoid']\n",
    "    ,'classification__max_iter' : [1000]\n",
    "}\n",
    "search = GridSearchCV(ppl, cv_params, n_jobs=-1, verbose=3)\n",
    "search.fit(X_train, y_train)\n",
    "search.best_params_"
   ]
  },
  {
   "cell_type": "code",
   "execution_count": 10,
   "id": "c1e1cc94",
   "metadata": {},
   "outputs": [
    {
     "name": "stdout",
     "output_type": "stream",
     "text": [
      "Wall time: 2.93 s\n"
     ]
    },
    {
     "data": {
      "text/plain": [
       "0.7809035349037192"
      ]
     },
     "execution_count": 10,
     "metadata": {},
     "output_type": "execute_result"
    }
   ],
   "source": [
    "%%time\n",
    "search.score(X_train, y_train)"
   ]
  },
  {
   "cell_type": "code",
   "execution_count": 11,
   "id": "fb7df2d6",
   "metadata": {},
   "outputs": [
    {
     "name": "stdout",
     "output_type": "stream",
     "text": [
      "Wall time: 1.46 s\n"
     ]
    },
    {
     "data": {
      "text/plain": [
       "0.7805417357656164"
      ]
     },
     "execution_count": 11,
     "metadata": {},
     "output_type": "execute_result"
    }
   ],
   "source": [
    "%%time\n",
    "search.score(X_test, y_test)"
   ]
  },
  {
   "cell_type": "code",
   "execution_count": 14,
   "id": "8a5fa698",
   "metadata": {},
   "outputs": [
    {
     "data": {
      "text/html": [
       "<div>\n",
       "<style scoped>\n",
       "    .dataframe tbody tr th:only-of-type {\n",
       "        vertical-align: middle;\n",
       "    }\n",
       "\n",
       "    .dataframe tbody tr th {\n",
       "        vertical-align: top;\n",
       "    }\n",
       "\n",
       "    .dataframe thead th {\n",
       "        text-align: right;\n",
       "    }\n",
       "</style>\n",
       "<table border=\"1\" class=\"dataframe\">\n",
       "  <thead>\n",
       "    <tr style=\"text-align: right;\">\n",
       "      <th></th>\n",
       "      <th>RESULT</th>\n",
       "      <th>CNT</th>\n",
       "    </tr>\n",
       "  </thead>\n",
       "  <tbody>\n",
       "    <tr>\n",
       "      <th>0</th>\n",
       "      <td>false negative</td>\n",
       "      <td>1094</td>\n",
       "    </tr>\n",
       "    <tr>\n",
       "      <th>1</th>\n",
       "      <td>false positive</td>\n",
       "      <td>2479</td>\n",
       "    </tr>\n",
       "    <tr>\n",
       "      <th>2</th>\n",
       "      <td>true negative</td>\n",
       "      <td>9956</td>\n",
       "    </tr>\n",
       "    <tr>\n",
       "      <th>3</th>\n",
       "      <td>true positive</td>\n",
       "      <td>2752</td>\n",
       "    </tr>\n",
       "  </tbody>\n",
       "</table>\n",
       "</div>"
      ],
      "text/plain": [
       "           RESULT   CNT\n",
       "0  false negative  1094\n",
       "1  false positive  2479\n",
       "2   true negative  9956\n",
       "3   true positive  2752"
      ]
     },
     "execution_count": 14,
     "metadata": {},
     "output_type": "execute_result"
    }
   ],
   "source": [
    "res = search.predict(X_test)\n",
    "res_df = pd.DataFrame(np.concatenate((y_test[:, None], res[:, None]), axis=1))\n",
    "res_df.columns = ['target', 'prediction']\n",
    "from pandasql import sqldf\n",
    "query = \"\"\"\n",
    "select\n",
    "    eval as RESULT\n",
    "    ,count(*) as CNT\n",
    "from\n",
    "    (select\n",
    "        target\n",
    "        ,prediction\n",
    "        ,case\n",
    "            when target = prediction and target = 1 then 'true positive'\n",
    "            when target = prediction and target = 0 then 'true negative'\n",
    "            when target <> prediction and target = 1 then 'false negative'\n",
    "            else 'false positive'\n",
    "        end as eval\n",
    "    from res_df)\n",
    "group by eval\n",
    "\"\"\"\n",
    "sqldf(query)"
   ]
  },
  {
   "cell_type": "code",
   "execution_count": 30,
   "id": "74cf242e",
   "metadata": {},
   "outputs": [
    {
     "name": "stdout",
     "output_type": "stream",
     "text": [
      "Fitting 5 folds for each of 16 candidates, totalling 80 fits\n",
      "Wall time: 3min 24s\n"
     ]
    },
    {
     "data": {
      "text/plain": [
       "{'classification__n_neighbors': 10,\n",
       " 'classification__p': 2,\n",
       " 'classification__weights': 'uniform'}"
      ]
     },
     "execution_count": 30,
     "metadata": {},
     "output_type": "execute_result"
    }
   ],
   "source": [
    "%%time\n",
    "from sklearn import preprocessing\n",
    "from sklearn.pipeline import Pipeline\n",
    "from sklearn import impute\n",
    "from sklearn.preprocessing import StandardScaler\n",
    "from sklearn.neighbors import KNeighborsClassifier\n",
    "from sklearn.model_selection import GridSearchCV\n",
    "import pandas as pd \n",
    "\n",
    "ppl = Pipeline(steps=[\n",
    "    ('imputation', impute.SimpleImputer(strategy='most_frequent'))\n",
    "    ,('scaling', StandardScaler())\n",
    "    ,('classification', KNeighborsClassifier(n_jobs=4))\n",
    "])\n",
    "cv_params = {\n",
    "    'classification__n_neighbors' : [i for i in range(3, 11)]\n",
    "    ,'classification__weights' : ['uniform', 'distance']\n",
    "    , 'classification__p' : [2]\n",
    "}\n",
    "search = GridSearchCV(ppl, cv_params, n_jobs=4, verbose=3, cv=4)\n",
    "search.fit(X_train, y_train)\n",
    "search.best_params_"
   ]
  },
  {
   "cell_type": "code",
   "execution_count": 31,
   "id": "117e5640",
   "metadata": {},
   "outputs": [
    {
     "name": "stdout",
     "output_type": "stream",
     "text": [
      "Wall time: 34.2 s\n"
     ]
    },
    {
     "data": {
      "text/plain": [
       "0.8578053499585394"
      ]
     },
     "execution_count": 31,
     "metadata": {},
     "output_type": "execute_result"
    }
   ],
   "source": [
    "%%time\n",
    "search.score(X_train, y_train)"
   ]
  },
  {
   "cell_type": "code",
   "execution_count": 32,
   "id": "20bfb123",
   "metadata": {},
   "outputs": [
    {
     "name": "stdout",
     "output_type": "stream",
     "text": [
      "Wall time: 16.9 s\n"
     ]
    },
    {
     "data": {
      "text/plain": [
       "0.8288802899084823"
      ]
     },
     "execution_count": 32,
     "metadata": {},
     "output_type": "execute_result"
    }
   ],
   "source": [
    "%%time\n",
    "search.score(X_test, y_test)"
   ]
  },
  {
   "cell_type": "code",
   "execution_count": 33,
   "id": "8f102657",
   "metadata": {},
   "outputs": [
    {
     "data": {
      "text/html": [
       "<div>\n",
       "<style scoped>\n",
       "    .dataframe tbody tr th:only-of-type {\n",
       "        vertical-align: middle;\n",
       "    }\n",
       "\n",
       "    .dataframe tbody tr th {\n",
       "        vertical-align: top;\n",
       "    }\n",
       "\n",
       "    .dataframe thead th {\n",
       "        text-align: right;\n",
       "    }\n",
       "</style>\n",
       "<table border=\"1\" class=\"dataframe\">\n",
       "  <thead>\n",
       "    <tr style=\"text-align: right;\">\n",
       "      <th></th>\n",
       "      <th>RESULT</th>\n",
       "      <th>CNT</th>\n",
       "    </tr>\n",
       "  </thead>\n",
       "  <tbody>\n",
       "    <tr>\n",
       "      <th>0</th>\n",
       "      <td>false negative</td>\n",
       "      <td>1888</td>\n",
       "    </tr>\n",
       "    <tr>\n",
       "      <th>1</th>\n",
       "      <td>false positive</td>\n",
       "      <td>898</td>\n",
       "    </tr>\n",
       "    <tr>\n",
       "      <th>2</th>\n",
       "      <td>true negative</td>\n",
       "      <td>11537</td>\n",
       "    </tr>\n",
       "    <tr>\n",
       "      <th>3</th>\n",
       "      <td>true positive</td>\n",
       "      <td>1958</td>\n",
       "    </tr>\n",
       "  </tbody>\n",
       "</table>\n",
       "</div>"
      ],
      "text/plain": [
       "           RESULT    CNT\n",
       "0  false negative   1888\n",
       "1  false positive    898\n",
       "2   true negative  11537\n",
       "3   true positive   1958"
      ]
     },
     "execution_count": 33,
     "metadata": {},
     "output_type": "execute_result"
    }
   ],
   "source": [
    "%%time\n",
    "res = search.predict(X_test)\n",
    "res_df = pd.DataFrame(np.concatenate((y_test[:, None], res[:, None]), axis=1))\n",
    "res_df.columns = ['target', 'prediction']\n",
    "from pandasql import sqldf\n",
    "query = \"\"\"\n",
    "select\n",
    "    eval as RESULT\n",
    "    ,count(*) as CNT\n",
    "from\n",
    "    (select\n",
    "        target\n",
    "        ,prediction\n",
    "        ,case\n",
    "            when target = prediction and target = 1 then 'true positive'\n",
    "            when target = prediction and target = 0 then 'true negative'\n",
    "            when target <> prediction and target = 1 then 'false negative'\n",
    "            else 'false positive'\n",
    "        end as eval\n",
    "    from res_df)\n",
    "group by eval\n",
    "\"\"\"\n",
    "sqldf(query)"
   ]
  },
  {
   "cell_type": "code",
   "execution_count": 19,
   "id": "0abef5ce",
   "metadata": {},
   "outputs": [
    {
     "name": "stdout",
     "output_type": "stream",
     "text": [
      "Wall time: 164 ms\n"
     ]
    },
    {
     "data": {
      "text/plain": [
       "Pipeline(steps=[('imputation', SimpleImputer(strategy='most_frequent')),\n",
       "                ('scaling', StandardScaler()),\n",
       "                ('classification', GaussianNB())])"
      ]
     },
     "execution_count": 19,
     "metadata": {},
     "output_type": "execute_result"
    }
   ],
   "source": [
    "%%time\n",
    "from sklearn import preprocessing\n",
    "from sklearn.pipeline import Pipeline\n",
    "from sklearn import impute\n",
    "from sklearn.preprocessing import StandardScaler\n",
    "from sklearn.naive_bayes import GaussianNB\n",
    "from sklearn.model_selection import GridSearchCV\n",
    "import pandas as pd \n",
    "\n",
    "ppl = Pipeline(steps=[\n",
    "    ('imputation', impute.SimpleImputer(strategy='most_frequent'))\n",
    "    ,('scaling', StandardScaler())\n",
    "    ,('classification', GaussianNB())\n",
    "])\n",
    "search = ppl\n",
    "search.fit(X_train, y_train)"
   ]
  },
  {
   "cell_type": "code",
   "execution_count": 20,
   "id": "59c0c5fa",
   "metadata": {},
   "outputs": [
    {
     "name": "stdout",
     "output_type": "stream",
     "text": [
      "Wall time: 65.1 ms\n"
     ]
    },
    {
     "data": {
      "text/plain": [
       "0.7693559780105034"
      ]
     },
     "execution_count": 20,
     "metadata": {},
     "output_type": "execute_result"
    }
   ],
   "source": [
    "%%time\n",
    "search.score(X_train, y_train)"
   ]
  },
  {
   "cell_type": "code",
   "execution_count": 21,
   "id": "5da3d890",
   "metadata": {},
   "outputs": [
    {
     "name": "stdout",
     "output_type": "stream",
     "text": [
      "Wall time: 36 ms\n"
     ]
    },
    {
     "data": {
      "text/plain": [
       "0.7705300657207789"
      ]
     },
     "execution_count": 21,
     "metadata": {},
     "output_type": "execute_result"
    }
   ],
   "source": [
    "%%time\n",
    "search.score(X_test, y_test)"
   ]
  },
  {
   "cell_type": "code",
   "execution_count": 23,
   "id": "3306e207",
   "metadata": {},
   "outputs": [
    {
     "name": "stdout",
     "output_type": "stream",
     "text": [
      "Wall time: 280 ms\n"
     ]
    },
    {
     "data": {
      "text/html": [
       "<div>\n",
       "<style scoped>\n",
       "    .dataframe tbody tr th:only-of-type {\n",
       "        vertical-align: middle;\n",
       "    }\n",
       "\n",
       "    .dataframe tbody tr th {\n",
       "        vertical-align: top;\n",
       "    }\n",
       "\n",
       "    .dataframe thead th {\n",
       "        text-align: right;\n",
       "    }\n",
       "</style>\n",
       "<table border=\"1\" class=\"dataframe\">\n",
       "  <thead>\n",
       "    <tr style=\"text-align: right;\">\n",
       "      <th></th>\n",
       "      <th>RESULT</th>\n",
       "      <th>CNT</th>\n",
       "    </tr>\n",
       "  </thead>\n",
       "  <tbody>\n",
       "    <tr>\n",
       "      <th>0</th>\n",
       "      <td>false negative</td>\n",
       "      <td>631</td>\n",
       "    </tr>\n",
       "    <tr>\n",
       "      <th>1</th>\n",
       "      <td>false positive</td>\n",
       "      <td>3105</td>\n",
       "    </tr>\n",
       "    <tr>\n",
       "      <th>2</th>\n",
       "      <td>true negative</td>\n",
       "      <td>9330</td>\n",
       "    </tr>\n",
       "    <tr>\n",
       "      <th>3</th>\n",
       "      <td>true positive</td>\n",
       "      <td>3215</td>\n",
       "    </tr>\n",
       "  </tbody>\n",
       "</table>\n",
       "</div>"
      ],
      "text/plain": [
       "           RESULT   CNT\n",
       "0  false negative   631\n",
       "1  false positive  3105\n",
       "2   true negative  9330\n",
       "3   true positive  3215"
      ]
     },
     "execution_count": 23,
     "metadata": {},
     "output_type": "execute_result"
    }
   ],
   "source": [
    "%%time\n",
    "res = search.predict(X_test)\n",
    "res_df = pd.DataFrame(np.concatenate((y_test[:, None], res[:, None]), axis=1))\n",
    "res_df.columns = ['target', 'prediction']\n",
    "from pandasql import sqldf\n",
    "query = \"\"\"\n",
    "select\n",
    "    eval as RESULT\n",
    "    ,count(*) as CNT\n",
    "from\n",
    "    (select\n",
    "        target\n",
    "        ,prediction\n",
    "        ,case\n",
    "            when target = prediction and target = 1 then 'true positive'\n",
    "            when target = prediction and target = 0 then 'true negative'\n",
    "            when target <> prediction and target = 1 then 'false negative'\n",
    "            else 'false positive'\n",
    "        end as eval\n",
    "    from res_df)\n",
    "group by eval\n",
    "\"\"\"\n",
    "sqldf(query)"
   ]
  },
  {
   "cell_type": "code",
   "execution_count": 10,
   "id": "e22e66c2",
   "metadata": {},
   "outputs": [
    {
     "name": "stdout",
     "output_type": "stream",
     "text": [
      "Fitting 4 folds for each of 2000 candidates, totalling 8000 fits\n",
      "Wall time: 16min 32s\n"
     ]
    },
    {
     "data": {
      "text/plain": [
       "{'classification__ccp_alpha': 1.567455410205595e-05,\n",
       " 'classification__criterion': 'entropy'}"
      ]
     },
     "execution_count": 10,
     "metadata": {},
     "output_type": "execute_result"
    }
   ],
   "source": [
    "%%time\n",
    "from sklearn import preprocessing\n",
    "from sklearn.pipeline import Pipeline\n",
    "from sklearn import impute\n",
    "from sklearn.preprocessing import StandardScaler\n",
    "from sklearn.tree import DecisionTreeClassifier\n",
    "from sklearn.model_selection import GridSearchCV\n",
    "import pandas as pd \n",
    "\n",
    "ppl = Pipeline(steps=[\n",
    "    ('imputation', impute.SimpleImputer(strategy='most_frequent'))\n",
    "#     ,('scaling', StandardScaler())\n",
    "    ,('classification', DecisionTreeClassifier(class_weight = 'balanced'))\n",
    "])\n",
    "cv_params = {\n",
    "    'classification__criterion' : ['gini', 'entropy']\n",
    "    ,'classification__ccp_alpha' : np.logspace(-6, 0, 1000)\n",
    "}\n",
    "search = GridSearchCV(ppl, cv_params, n_jobs=4, cv=4, verbose=3)\n",
    "search.fit(X_train, y_train)\n",
    "search.best_params_"
   ]
  },
  {
   "cell_type": "code",
   "execution_count": 11,
   "id": "96261215",
   "metadata": {},
   "outputs": [
    {
     "name": "stdout",
     "output_type": "stream",
     "text": [
      "Wall time: 29.7 ms\n"
     ]
    },
    {
     "data": {
      "text/plain": [
       "0.9999692884125181"
      ]
     },
     "execution_count": 11,
     "metadata": {},
     "output_type": "execute_result"
    }
   ],
   "source": [
    "%%time\n",
    "search.score(X_train, y_train)"
   ]
  },
  {
   "cell_type": "code",
   "execution_count": 12,
   "id": "eb2ba703",
   "metadata": {},
   "outputs": [
    {
     "name": "stdout",
     "output_type": "stream",
     "text": [
      "Wall time: 19.8 ms\n"
     ]
    },
    {
     "data": {
      "text/plain": [
       "0.8126036484245439"
      ]
     },
     "execution_count": 12,
     "metadata": {},
     "output_type": "execute_result"
    }
   ],
   "source": [
    "%%time\n",
    "search.score(X_test, y_test)"
   ]
  },
  {
   "cell_type": "code",
   "execution_count": 13,
   "id": "9b5d387f",
   "metadata": {},
   "outputs": [
    {
     "name": "stdout",
     "output_type": "stream",
     "text": [
      "Wall time: 440 ms\n"
     ]
    },
    {
     "data": {
      "text/html": [
       "<div>\n",
       "<style scoped>\n",
       "    .dataframe tbody tr th:only-of-type {\n",
       "        vertical-align: middle;\n",
       "    }\n",
       "\n",
       "    .dataframe tbody tr th {\n",
       "        vertical-align: top;\n",
       "    }\n",
       "\n",
       "    .dataframe thead th {\n",
       "        text-align: right;\n",
       "    }\n",
       "</style>\n",
       "<table border=\"1\" class=\"dataframe\">\n",
       "  <thead>\n",
       "    <tr style=\"text-align: right;\">\n",
       "      <th></th>\n",
       "      <th>RESULT</th>\n",
       "      <th>CNT</th>\n",
       "    </tr>\n",
       "  </thead>\n",
       "  <tbody>\n",
       "    <tr>\n",
       "      <th>0</th>\n",
       "      <td>false negative</td>\n",
       "      <td>1499</td>\n",
       "    </tr>\n",
       "    <tr>\n",
       "      <th>1</th>\n",
       "      <td>false positive</td>\n",
       "      <td>1552</td>\n",
       "    </tr>\n",
       "    <tr>\n",
       "      <th>2</th>\n",
       "      <td>true negative</td>\n",
       "      <td>10883</td>\n",
       "    </tr>\n",
       "    <tr>\n",
       "      <th>3</th>\n",
       "      <td>true positive</td>\n",
       "      <td>2347</td>\n",
       "    </tr>\n",
       "  </tbody>\n",
       "</table>\n",
       "</div>"
      ],
      "text/plain": [
       "           RESULT    CNT\n",
       "0  false negative   1499\n",
       "1  false positive   1552\n",
       "2   true negative  10883\n",
       "3   true positive   2347"
      ]
     },
     "execution_count": 13,
     "metadata": {},
     "output_type": "execute_result"
    }
   ],
   "source": [
    "%%time\n",
    "res = search.predict(X_test)\n",
    "res_df = pd.DataFrame(np.concatenate((y_test[:, None], res[:, None]), axis=1))\n",
    "res_df.columns = ['target', 'prediction']\n",
    "from pandasql import sqldf\n",
    "query = \"\"\"\n",
    "select\n",
    "    eval as RESULT\n",
    "    ,count(*) as CNT\n",
    "from\n",
    "    (select\n",
    "        target\n",
    "        ,prediction\n",
    "        ,case\n",
    "            when target = prediction and target = 1 then 'true positive'\n",
    "            when target = prediction and target = 0 then 'true negative'\n",
    "            when target <> prediction and target = 1 then 'false negative'\n",
    "            else 'false positive'\n",
    "        end as eval\n",
    "    from res_df)\n",
    "group by eval\n",
    "\"\"\"\n",
    "sqldf(query)"
   ]
  },
  {
   "cell_type": "code",
   "execution_count": 16,
   "id": "1fdd2bd0",
   "metadata": {},
   "outputs": [
    {
     "name": "stdout",
     "output_type": "stream",
     "text": [
      "Fitting 4 folds for each of 12 candidates, totalling 48 fits\n",
      "Wall time: 5min 31s\n"
     ]
    },
    {
     "data": {
      "text/plain": [
       "{'classification__n_estimators': 250}"
      ]
     },
     "execution_count": 16,
     "metadata": {},
     "output_type": "execute_result"
    }
   ],
   "source": [
    "%%time\n",
    "from sklearn import preprocessing\n",
    "from sklearn.pipeline import Pipeline\n",
    "from sklearn import impute\n",
    "from sklearn.preprocessing import StandardScaler\n",
    "from sklearn.tree import DecisionTreeClassifier\n",
    "from sklearn.model_selection import GridSearchCV\n",
    "from sklearn.ensemble import BaggingClassifier\n",
    "\n",
    "base_estim = DecisionTreeClassifier(class_weight='balanced', ccp_alpha=1e-4)\n",
    "ppl = Pipeline(steps=[\n",
    "    ('imputation', impute.SimpleImputer(strategy='most_frequent'))\n",
    "#     ,('scaling', StandardScaler())\n",
    "    ,('classification', BaggingClassifier(base_estim, n_jobs=4))\n",
    "])\n",
    "cv_params = {\n",
    "    'classification__n_estimators' : [1,5,15,25,50,100,150,200,250,300,500,100]\n",
    "}\n",
    "search = GridSearchCV(ppl, cv_params, n_jobs=4, cv=4, verbose=3)\n",
    "search.fit(X_train, y_train)\n",
    "search.best_params_"
   ]
  },
  {
   "cell_type": "code",
   "execution_count": 17,
   "id": "d9d36857",
   "metadata": {},
   "outputs": [
    {
     "name": "stdout",
     "output_type": "stream",
     "text": [
      "Wall time: 2.71 s\n"
     ]
    },
    {
     "data": {
      "text/plain": [
       "0.9183993120604405"
      ]
     },
     "execution_count": 17,
     "metadata": {},
     "output_type": "execute_result"
    }
   ],
   "source": [
    "%%time\n",
    "search.score(X_train, y_train)"
   ]
  },
  {
   "cell_type": "code",
   "execution_count": 18,
   "id": "e0860f05",
   "metadata": {},
   "outputs": [
    {
     "name": "stdout",
     "output_type": "stream",
     "text": [
      "Wall time: 965 ms\n"
     ]
    },
    {
     "data": {
      "text/plain": [
       "0.8475523616485474"
      ]
     },
     "execution_count": 18,
     "metadata": {},
     "output_type": "execute_result"
    }
   ],
   "source": [
    "%%time\n",
    "search.score(X_test, y_test)"
   ]
  },
  {
   "cell_type": "code",
   "execution_count": 19,
   "id": "71a50664",
   "metadata": {},
   "outputs": [
    {
     "name": "stdout",
     "output_type": "stream",
     "text": [
      "Wall time: 1.09 s\n"
     ]
    },
    {
     "data": {
      "text/html": [
       "<div>\n",
       "<style scoped>\n",
       "    .dataframe tbody tr th:only-of-type {\n",
       "        vertical-align: middle;\n",
       "    }\n",
       "\n",
       "    .dataframe tbody tr th {\n",
       "        vertical-align: top;\n",
       "    }\n",
       "\n",
       "    .dataframe thead th {\n",
       "        text-align: right;\n",
       "    }\n",
       "</style>\n",
       "<table border=\"1\" class=\"dataframe\">\n",
       "  <thead>\n",
       "    <tr style=\"text-align: right;\">\n",
       "      <th></th>\n",
       "      <th>RESULT</th>\n",
       "      <th>CNT</th>\n",
       "    </tr>\n",
       "  </thead>\n",
       "  <tbody>\n",
       "    <tr>\n",
       "      <th>0</th>\n",
       "      <td>false negative</td>\n",
       "      <td>904</td>\n",
       "    </tr>\n",
       "    <tr>\n",
       "      <th>1</th>\n",
       "      <td>false positive</td>\n",
       "      <td>1578</td>\n",
       "    </tr>\n",
       "    <tr>\n",
       "      <th>2</th>\n",
       "      <td>true negative</td>\n",
       "      <td>10857</td>\n",
       "    </tr>\n",
       "    <tr>\n",
       "      <th>3</th>\n",
       "      <td>true positive</td>\n",
       "      <td>2942</td>\n",
       "    </tr>\n",
       "  </tbody>\n",
       "</table>\n",
       "</div>"
      ],
      "text/plain": [
       "           RESULT    CNT\n",
       "0  false negative    904\n",
       "1  false positive   1578\n",
       "2   true negative  10857\n",
       "3   true positive   2942"
      ]
     },
     "execution_count": 19,
     "metadata": {},
     "output_type": "execute_result"
    }
   ],
   "source": [
    "%%time\n",
    "res = search.predict(X_test)\n",
    "res_df = pd.DataFrame(np.concatenate((y_test[:, None], res[:, None]), axis=1))\n",
    "res_df.columns = ['target', 'prediction']\n",
    "from pandasql import sqldf\n",
    "query = \"\"\"\n",
    "select\n",
    "    eval as RESULT\n",
    "    ,count(*) as CNT\n",
    "from\n",
    "    (select\n",
    "        target\n",
    "        ,prediction\n",
    "        ,case\n",
    "            when target = prediction and target = 1 then 'true positive'\n",
    "            when target = prediction and target = 0 then 'true negative'\n",
    "            when target <> prediction and target = 1 then 'false negative'\n",
    "            else 'false positive'\n",
    "        end as eval\n",
    "    from res_df)\n",
    "group by eval\n",
    "\"\"\"\n",
    "sqldf(query)"
   ]
  },
  {
   "cell_type": "code",
   "execution_count": 25,
   "id": "1b6d961f",
   "metadata": {},
   "outputs": [
    {
     "name": "stdout",
     "output_type": "stream",
     "text": [
      "Fitting 4 folds for each of 240 candidates, totalling 960 fits\n",
      "Wall time: 25min 2s\n"
     ]
    },
    {
     "data": {
      "text/plain": [
       "{'classification__ccp_alpha': 3.792690190732254e-05,\n",
       " 'classification__n_estimators': 250}"
      ]
     },
     "execution_count": 25,
     "metadata": {},
     "output_type": "execute_result"
    }
   ],
   "source": [
    "%%time\n",
    "from sklearn import preprocessing\n",
    "from sklearn.pipeline import Pipeline\n",
    "from sklearn import impute\n",
    "from sklearn.preprocessing import StandardScaler\n",
    "from sklearn.model_selection import GridSearchCV\n",
    "from sklearn.ensemble import RandomForestClassifier\n",
    "\n",
    "ppl = Pipeline(steps=[\n",
    "    ('imputation', impute.SimpleImputer(strategy='most_frequent'))\n",
    "#     ,('scaling', StandardScaler())\n",
    "    ,('classification', RandomForestClassifier(class_weight='balanced', n_jobs=4))\n",
    "])\n",
    "cv_params = {\n",
    "    'classification__n_estimators' : [1,5,15,25,50,100,150,200,250,300,500,100]\n",
    "    ,'classification__ccp_alpha' : np.logspace(-6, 0, 20)\n",
    "}\n",
    "search = GridSearchCV(ppl, cv_params, n_jobs=4, cv=4, verbose=3)\n",
    "search.fit(X_train, y_train)\n",
    "search.best_params_"
   ]
  },
  {
   "cell_type": "code",
   "execution_count": 26,
   "id": "e43de61a",
   "metadata": {},
   "outputs": [
    {
     "name": "stdout",
     "output_type": "stream",
     "text": [
      "Wall time: 455 ms\n"
     ]
    },
    {
     "data": {
      "text/plain": [
       "0.9601670710359018"
      ]
     },
     "execution_count": 26,
     "metadata": {},
     "output_type": "execute_result"
    }
   ],
   "source": [
    "%%time\n",
    "search.score(X_train, y_train)"
   ]
  },
  {
   "cell_type": "code",
   "execution_count": 27,
   "id": "1e6a2d22",
   "metadata": {},
   "outputs": [
    {
     "name": "stdout",
     "output_type": "stream",
     "text": [
      "Wall time: 238 ms\n"
     ]
    },
    {
     "data": {
      "text/plain": [
       "0.8538787543762668"
      ]
     },
     "execution_count": 27,
     "metadata": {},
     "output_type": "execute_result"
    }
   ],
   "source": [
    "%%time\n",
    "search.score(X_test, y_test)"
   ]
  },
  {
   "cell_type": "code",
   "execution_count": 28,
   "id": "2fa64def",
   "metadata": {},
   "outputs": [
    {
     "name": "stdout",
     "output_type": "stream",
     "text": [
      "Wall time: 334 ms\n"
     ]
    },
    {
     "data": {
      "text/html": [
       "<div>\n",
       "<style scoped>\n",
       "    .dataframe tbody tr th:only-of-type {\n",
       "        vertical-align: middle;\n",
       "    }\n",
       "\n",
       "    .dataframe tbody tr th {\n",
       "        vertical-align: top;\n",
       "    }\n",
       "\n",
       "    .dataframe thead th {\n",
       "        text-align: right;\n",
       "    }\n",
       "</style>\n",
       "<table border=\"1\" class=\"dataframe\">\n",
       "  <thead>\n",
       "    <tr style=\"text-align: right;\">\n",
       "      <th></th>\n",
       "      <th>RESULT</th>\n",
       "      <th>CNT</th>\n",
       "    </tr>\n",
       "  </thead>\n",
       "  <tbody>\n",
       "    <tr>\n",
       "      <th>0</th>\n",
       "      <td>false negative</td>\n",
       "      <td>1111</td>\n",
       "    </tr>\n",
       "    <tr>\n",
       "      <th>1</th>\n",
       "      <td>false positive</td>\n",
       "      <td>1268</td>\n",
       "    </tr>\n",
       "    <tr>\n",
       "      <th>2</th>\n",
       "      <td>true negative</td>\n",
       "      <td>11167</td>\n",
       "    </tr>\n",
       "    <tr>\n",
       "      <th>3</th>\n",
       "      <td>true positive</td>\n",
       "      <td>2735</td>\n",
       "    </tr>\n",
       "  </tbody>\n",
       "</table>\n",
       "</div>"
      ],
      "text/plain": [
       "           RESULT    CNT\n",
       "0  false negative   1111\n",
       "1  false positive   1268\n",
       "2   true negative  11167\n",
       "3   true positive   2735"
      ]
     },
     "execution_count": 28,
     "metadata": {},
     "output_type": "execute_result"
    }
   ],
   "source": [
    "%%time\n",
    "res = search.predict(X_test)\n",
    "res_df = pd.DataFrame(np.concatenate((y_test[:, None], res[:, None]), axis=1))\n",
    "res_df.columns = ['target', 'prediction']\n",
    "from pandasql import sqldf\n",
    "query = \"\"\"\n",
    "select\n",
    "    eval as RESULT\n",
    "    ,count(*) as CNT\n",
    "from\n",
    "    (select\n",
    "        target\n",
    "        ,prediction\n",
    "        ,case\n",
    "            when target = prediction and target = 1 then 'true positive'\n",
    "            when target = prediction and target = 0 then 'true negative'\n",
    "            when target <> prediction and target = 1 then 'false negative'\n",
    "            else 'false positive'\n",
    "        end as eval\n",
    "    from res_df)\n",
    "group by eval\n",
    "\"\"\"\n",
    "sqldf(query)"
   ]
  },
  {
   "cell_type": "code",
   "execution_count": 33,
   "id": "f7408821",
   "metadata": {},
   "outputs": [
    {
     "name": "stdout",
     "output_type": "stream",
     "text": [
      "Fitting 4 folds for each of 240 candidates, totalling 960 fits\n",
      "Wall time: 29min 29s\n"
     ]
    },
    {
     "data": {
      "text/plain": [
       "{'classification__learning_rate': 1.1288378916846884,\n",
       " 'classification__n_estimators': 500}"
      ]
     },
     "execution_count": 33,
     "metadata": {},
     "output_type": "execute_result"
    }
   ],
   "source": [
    "%%time\n",
    "from sklearn import preprocessing\n",
    "from sklearn.pipeline import Pipeline\n",
    "from sklearn import impute\n",
    "from sklearn.preprocessing import StandardScaler\n",
    "from sklearn.model_selection import GridSearchCV\n",
    "from sklearn.ensemble import AdaBoostClassifier\n",
    "\n",
    "ppl = Pipeline(steps=[\n",
    "    ('imputation', impute.SimpleImputer(strategy='most_frequent'))\n",
    "#     ,('scaling', StandardScaler())\n",
    "    ,('classification', AdaBoostClassifier())\n",
    "])\n",
    "cv_params = {\n",
    "    'classification__n_estimators' : [1,5,15,25,50,100,150,200,250,300,500,100]\n",
    "    ,'classification__learning_rate' : np.logspace(-2, 1, 20)\n",
    "}\n",
    "search = GridSearchCV(ppl, cv_params, n_jobs=4, cv=4, verbose=3)\n",
    "search.fit(X_train, y_train)\n",
    "search.best_params_"
   ]
  },
  {
   "cell_type": "code",
   "execution_count": 34,
   "id": "b5cf4f13",
   "metadata": {},
   "outputs": [
    {
     "name": "stdout",
     "output_type": "stream",
     "text": [
      "Wall time: 3.15 s\n"
     ]
    },
    {
     "data": {
      "text/plain": [
       "0.873007585762108"
      ]
     },
     "execution_count": 34,
     "metadata": {},
     "output_type": "execute_result"
    }
   ],
   "source": [
    "%%time\n",
    "search.score(X_train, y_train)"
   ]
  },
  {
   "cell_type": "code",
   "execution_count": 35,
   "id": "32c70b3d",
   "metadata": {},
   "outputs": [
    {
     "name": "stdout",
     "output_type": "stream",
     "text": [
      "Wall time: 1.6 s\n"
     ]
    },
    {
     "data": {
      "text/plain": [
       "0.870523923591917"
      ]
     },
     "execution_count": 35,
     "metadata": {},
     "output_type": "execute_result"
    }
   ],
   "source": [
    "%%time\n",
    "search.score(X_test, y_test)"
   ]
  },
  {
   "cell_type": "code",
   "execution_count": 36,
   "id": "ef47f97c",
   "metadata": {},
   "outputs": [
    {
     "name": "stdout",
     "output_type": "stream",
     "text": [
      "Wall time: 1.8 s\n"
     ]
    },
    {
     "data": {
      "text/html": [
       "<div>\n",
       "<style scoped>\n",
       "    .dataframe tbody tr th:only-of-type {\n",
       "        vertical-align: middle;\n",
       "    }\n",
       "\n",
       "    .dataframe tbody tr th {\n",
       "        vertical-align: top;\n",
       "    }\n",
       "\n",
       "    .dataframe thead th {\n",
       "        text-align: right;\n",
       "    }\n",
       "</style>\n",
       "<table border=\"1\" class=\"dataframe\">\n",
       "  <thead>\n",
       "    <tr style=\"text-align: right;\">\n",
       "      <th></th>\n",
       "      <th>RESULT</th>\n",
       "      <th>CNT</th>\n",
       "    </tr>\n",
       "  </thead>\n",
       "  <tbody>\n",
       "    <tr>\n",
       "      <th>0</th>\n",
       "      <td>false negative</td>\n",
       "      <td>1362</td>\n",
       "    </tr>\n",
       "    <tr>\n",
       "      <th>1</th>\n",
       "      <td>false positive</td>\n",
       "      <td>746</td>\n",
       "    </tr>\n",
       "    <tr>\n",
       "      <th>2</th>\n",
       "      <td>true negative</td>\n",
       "      <td>11689</td>\n",
       "    </tr>\n",
       "    <tr>\n",
       "      <th>3</th>\n",
       "      <td>true positive</td>\n",
       "      <td>2484</td>\n",
       "    </tr>\n",
       "  </tbody>\n",
       "</table>\n",
       "</div>"
      ],
      "text/plain": [
       "           RESULT    CNT\n",
       "0  false negative   1362\n",
       "1  false positive    746\n",
       "2   true negative  11689\n",
       "3   true positive   2484"
      ]
     },
     "execution_count": 36,
     "metadata": {},
     "output_type": "execute_result"
    }
   ],
   "source": [
    "%%time\n",
    "res = search.predict(X_test)\n",
    "res_df = pd.DataFrame(np.concatenate((y_test[:, None], res[:, None]), axis=1))\n",
    "res_df.columns = ['target', 'prediction']\n",
    "from pandasql import sqldf\n",
    "query = \"\"\"\n",
    "select\n",
    "    eval as RESULT\n",
    "    ,count(*) as CNT\n",
    "from\n",
    "    (select\n",
    "        target\n",
    "        ,prediction\n",
    "        ,case\n",
    "            when target = prediction and target = 1 then 'true positive'\n",
    "            when target = prediction and target = 0 then 'true negative'\n",
    "            when target <> prediction and target = 1 then 'false negative'\n",
    "            else 'false positive'\n",
    "        end as eval\n",
    "    from res_df)\n",
    "group by eval\n",
    "\"\"\"\n",
    "sqldf(query)"
   ]
  },
  {
   "cell_type": "code",
   "execution_count": 11,
   "id": "6a4a280b",
   "metadata": {},
   "outputs": [
    {
     "name": "stdout",
     "output_type": "stream",
     "text": [
      "Fitting 4 folds for each of 200 candidates, totalling 800 fits\n",
      "Wall time: 9min 15s\n"
     ]
    },
    {
     "data": {
      "text/plain": [
       "{'classification__l2_regularization': 0.21544346900318823,\n",
       " 'classification__learning_rate': 0.07847599703514611}"
      ]
     },
     "execution_count": 11,
     "metadata": {},
     "output_type": "execute_result"
    }
   ],
   "source": [
    "%%time\n",
    "from sklearn import preprocessing\n",
    "from sklearn.pipeline import Pipeline\n",
    "from sklearn import impute\n",
    "from sklearn.preprocessing import StandardScaler\n",
    "from sklearn.model_selection import GridSearchCV\n",
    "from sklearn.ensemble import HistGradientBoostingClassifier\n",
    "\n",
    "ppl = Pipeline(steps=[\n",
    "    ('imputation', impute.SimpleImputer(strategy='most_frequent'))\n",
    "#     ,('scaling', StandardScaler())\n",
    "    ,('classification', HistGradientBoostingClassifier())\n",
    "])\n",
    "cv_params = {\n",
    "    'classification__learning_rate' : np.logspace(-3, 0, 20)\n",
    "    ,'classification__l2_regularization' : np.logspace(-3, 0, 10)\n",
    "}\n",
    "search = GridSearchCV(ppl, cv_params, n_jobs=4, cv=4, verbose=3)\n",
    "search.fit(X_train, y_train)\n",
    "search.best_params_"
   ]
  },
  {
   "cell_type": "code",
   "execution_count": 12,
   "id": "3fe938f4",
   "metadata": {},
   "outputs": [
    {
     "name": "stdout",
     "output_type": "stream",
     "text": [
      "Wall time: 180 ms\n"
     ]
    },
    {
     "data": {
      "text/plain": [
       "0.8831424096311539"
      ]
     },
     "execution_count": 12,
     "metadata": {},
     "output_type": "execute_result"
    }
   ],
   "source": [
    "%%time\n",
    "search.score(X_train, y_train)"
   ]
  },
  {
   "cell_type": "code",
   "execution_count": 13,
   "id": "927cd4bc",
   "metadata": {},
   "outputs": [
    {
     "name": "stdout",
     "output_type": "stream",
     "text": [
      "Wall time: 118 ms\n"
     ]
    },
    {
     "data": {
      "text/plain": [
       "0.873717830600086"
      ]
     },
     "execution_count": 13,
     "metadata": {},
     "output_type": "execute_result"
    }
   ],
   "source": [
    "%%time\n",
    "search.score(X_test, y_test)"
   ]
  },
  {
   "cell_type": "code",
   "execution_count": 15,
   "id": "540ad2fd",
   "metadata": {},
   "outputs": [
    {
     "name": "stdout",
     "output_type": "stream",
     "text": [
      "Wall time: 438 ms\n"
     ]
    },
    {
     "data": {
      "text/html": [
       "<div>\n",
       "<style scoped>\n",
       "    .dataframe tbody tr th:only-of-type {\n",
       "        vertical-align: middle;\n",
       "    }\n",
       "\n",
       "    .dataframe tbody tr th {\n",
       "        vertical-align: top;\n",
       "    }\n",
       "\n",
       "    .dataframe thead th {\n",
       "        text-align: right;\n",
       "    }\n",
       "</style>\n",
       "<table border=\"1\" class=\"dataframe\">\n",
       "  <thead>\n",
       "    <tr style=\"text-align: right;\">\n",
       "      <th></th>\n",
       "      <th>RESULT</th>\n",
       "      <th>CNT</th>\n",
       "    </tr>\n",
       "  </thead>\n",
       "  <tbody>\n",
       "    <tr>\n",
       "      <th>0</th>\n",
       "      <td>false negative</td>\n",
       "      <td>1338</td>\n",
       "    </tr>\n",
       "    <tr>\n",
       "      <th>1</th>\n",
       "      <td>false positive</td>\n",
       "      <td>718</td>\n",
       "    </tr>\n",
       "    <tr>\n",
       "      <th>2</th>\n",
       "      <td>true negative</td>\n",
       "      <td>11717</td>\n",
       "    </tr>\n",
       "    <tr>\n",
       "      <th>3</th>\n",
       "      <td>true positive</td>\n",
       "      <td>2508</td>\n",
       "    </tr>\n",
       "  </tbody>\n",
       "</table>\n",
       "</div>"
      ],
      "text/plain": [
       "           RESULT    CNT\n",
       "0  false negative   1338\n",
       "1  false positive    718\n",
       "2   true negative  11717\n",
       "3   true positive   2508"
      ]
     },
     "execution_count": 15,
     "metadata": {},
     "output_type": "execute_result"
    }
   ],
   "source": [
    "%%time\n",
    "import pandas as pd\n",
    "res = search.predict(X_test)\n",
    "res_df = pd.DataFrame(np.concatenate((y_test[:, None], res[:, None]), axis=1))\n",
    "res_df.columns = ['target', 'prediction']\n",
    "from pandasql import sqldf\n",
    "query = \"\"\"\n",
    "select\n",
    "    eval as RESULT\n",
    "    ,count(*) as CNT\n",
    "from\n",
    "    (select\n",
    "        target\n",
    "        ,prediction\n",
    "        ,case\n",
    "            when target = prediction and target = 1 then 'true positive'\n",
    "            when target = prediction and target = 0 then 'true negative'\n",
    "            when target <> prediction and target = 1 then 'false negative'\n",
    "            else 'false positive'\n",
    "        end as eval\n",
    "    from res_df)\n",
    "group by eval\n",
    "\"\"\"\n",
    "sqldf(query)"
   ]
  },
  {
   "cell_type": "code",
   "execution_count": 17,
   "id": "1d58e958",
   "metadata": {},
   "outputs": [
    {
     "name": "stdout",
     "output_type": "stream",
     "text": [
      "Fitting 4 folds for each of 1080 candidates, totalling 4320 fits\n",
      "Wall time: 4h 49min 5s\n"
     ]
    },
    {
     "data": {
      "text/plain": [
       "{'classification__activation': 'tanh',\n",
       " 'classification__alpha': 0.05455594781168514,\n",
       " 'classification__hidden_layer_sizes': (50, 16)}"
      ]
     },
     "execution_count": 17,
     "metadata": {},
     "output_type": "execute_result"
    }
   ],
   "source": [
    "%%time\n",
    "from sklearn import preprocessing\n",
    "from sklearn.pipeline import Pipeline\n",
    "from sklearn import impute\n",
    "from sklearn.preprocessing import MinMaxScaler\n",
    "from sklearn.model_selection import GridSearchCV\n",
    "from sklearn.neural_network import MLPClassifier\n",
    "\n",
    "ppl = Pipeline(steps=[\n",
    "    ('imputation', impute.SimpleImputer(strategy='most_frequent'))\n",
    "    ,('scaling', MinMaxScaler())\n",
    "    ,('classification', MLPClassifier(learning_rate='adaptive', random_state=1))\n",
    "])\n",
    "cv_params = {\n",
    "    'classification__hidden_layer_sizes' : [(6), (10), (16), (24), (32), (50), \n",
    "                                            (50, 32), (50, 24), (50, 16)\n",
    "                                           ,(32, 24), (32, 16), (32, 10)\n",
    "                                           ,(24, 16), (24, 10), (24, 6)\n",
    "                                           ,(16, 10), (16, 6), (10, 6)]\n",
    "    ,'classification__activation' : ['relu', 'logistic', 'tanh']\n",
    "    ,'classification__alpha' : np.logspace(-6, 0, 20)\n",
    "}\n",
    "search = GridSearchCV(ppl, cv_params, n_jobs=4, cv=4, verbose=3)\n",
    "search.fit(X_train, y_train)\n",
    "search.best_params_"
   ]
  },
  {
   "cell_type": "code",
   "execution_count": null,
   "id": "351c522a",
   "metadata": {},
   "outputs": [],
   "source": [
    "%%time\n",
    "search.score(X_train, y_train)"
   ]
  },
  {
   "cell_type": "code",
   "execution_count": null,
   "id": "2623c02a",
   "metadata": {},
   "outputs": [],
   "source": [
    "%%time\n",
    "search.score(X_test, y_test)"
   ]
  },
  {
   "cell_type": "code",
   "execution_count": null,
   "id": "f4d75539",
   "metadata": {},
   "outputs": [],
   "source": [
    "%%time\n",
    "import pandas as pd\n",
    "res = search.predict(X_test)\n",
    "res_df = pd.DataFrame(np.concatenate((y_test[:, None], res[:, None]), axis=1))\n",
    "res_df.columns = ['target', 'prediction']\n",
    "from pandasql import sqldf\n",
    "query = \"\"\"\n",
    "select\n",
    "    eval as RESULT\n",
    "    ,count(*) as CNT\n",
    "from\n",
    "    (select\n",
    "        target\n",
    "        ,prediction\n",
    "        ,case\n",
    "            when target = prediction and target = 1 then 'true positive'\n",
    "            when target = prediction and target = 0 then 'true negative'\n",
    "            when target <> prediction and target = 1 then 'false negative'\n",
    "            else 'false positive'\n",
    "        end as eval\n",
    "    from res_df)\n",
    "group by eval\n",
    "\"\"\"\n",
    "sqldf(query)"
   ]
  }
 ],
 "metadata": {
  "kernelspec": {
   "display_name": "Python 3 (ipykernel)",
   "language": "python",
   "name": "python3"
  },
  "language_info": {
   "codemirror_mode": {
    "name": "ipython",
    "version": 3
   },
   "file_extension": ".py",
   "mimetype": "text/x-python",
   "name": "python",
   "nbconvert_exporter": "python",
   "pygments_lexer": "ipython3",
   "version": "3.9.7"
  }
 },
 "nbformat": 4,
 "nbformat_minor": 5
}
